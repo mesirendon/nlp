{
 "cells": [
  {
   "cell_type": "code",
   "execution_count": 1,
   "metadata": {},
   "outputs": [],
   "source": [
    "import numpy as np\n",
    "\n",
    "def seeMatrix(m):\n",
    "    for row in (m):\n",
    "        print(row)\n",
    "    \n",
    "def initialize(m, s1, s2):\n",
    "    c1 = np.arange(len(s1)+1)\n",
    "    m[:, 0] = c1[::-1]\n",
    "    m[len(s1), :] = np.arange(len(s2)+1)\n",
    "    \n",
    "def D(a, b):\n",
    "    x = abs(b - a)\n",
    "    #print('D(',a,',',b,') = ', x)\n",
    "    return x\n",
    "\n",
    "def levenshtein(s1, s2, dic):\n",
    "    m = np.zeros((len(s1)+1, len(s2)+1))\n",
    "    initialize(m,s1,s2)\n",
    "    for idx2, v2 in enumerate(s2):\n",
    "        for idx1, v1 in enumerate(s1):\n",
    "            i = idx2 + 1\n",
    "            j = idx1 + 1\n",
    "            \n",
    "            d = min(\n",
    "                D(i-1, j) + 1 if (i-1, j) not in dic else dic[(i-1, j)] + 1,\n",
    "                D(i, j-1) + 1 if (i, j-1) not in dic else dic[(i, j-1)] + 1,\n",
    "                (D(i-1, j-1) + 0 if id(s1[idx1]) == id(s2[idx2]) else D(i-1, j-1) \n",
    "                 + 2) if (i-1, j-1) not in dic else (dic[(i-1, j-1)] \n",
    "                 + 0 if id(s1[idx1]) == id(s2[idx2]) else dic[(i-1, j-1)] + 2),\n",
    "            )\n",
    "                        \n",
    "            m[len(s1)-j,i] = d\n",
    "            dic[(i, j)] = d            \n",
    "    seeMatrix(m)\n",
    "    print('\\n Edition distance = ',d)\n",
    "            \n",
    "            \n",
    "            "
   ]
  },
  {
   "cell_type": "code",
   "execution_count": 2,
   "metadata": {
    "scrolled": true
   },
   "outputs": [
    {
     "name": "stdout",
     "output_type": "stream",
     "text": [
      "[ 9.  8.  9. 10. 11. 12. 11. 10.  9.  8.]\n",
      "[ 8.  7.  8.  9. 10. 11. 10.  9.  8.  9.]\n",
      "[ 7.  6.  7.  8.  9. 10.  9.  8.  9. 10.]\n",
      "[ 6.  5.  6.  7.  8.  9.  8.  9. 10. 11.]\n",
      "[ 5.  4.  5.  6.  7.  8.  9. 10. 11. 10.]\n",
      "[ 4.  3.  4.  5.  6.  7.  8.  9. 10.  9.]\n",
      "[3. 4. 5. 6. 7. 8. 7. 8. 9. 8.]\n",
      "[2. 3. 4. 5. 6. 7. 8. 7. 8. 7.]\n",
      "[1. 2. 3. 4. 5. 6. 7. 6. 7. 8.]\n",
      "[0. 1. 2. 3. 4. 5. 6. 7. 8. 9.]\n",
      "\n",
      " Edition distance =  8\n"
     ]
    }
   ],
   "source": [
    "s1 = 'INTENTION' # Y(j) axis\n",
    "s2 = 'EXECUTION' # X(i) axis\n",
    "dic = {}\n",
    "levenshtein(s1, s2, dic)\n"
   ]
  }
 ],
 "metadata": {
  "kernelspec": {
   "display_name": "Python 3",
   "language": "python",
   "name": "python3"
  },
  "language_info": {
   "codemirror_mode": {
    "name": "ipython",
    "version": 3
   },
   "file_extension": ".py",
   "mimetype": "text/x-python",
   "name": "python",
   "nbconvert_exporter": "python",
   "pygments_lexer": "ipython3",
   "version": "3.6.8"
  }
 },
 "nbformat": 4,
 "nbformat_minor": 2
}
