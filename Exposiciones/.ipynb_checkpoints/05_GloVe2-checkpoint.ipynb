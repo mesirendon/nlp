{
 "cells": [
  {
   "cell_type": "code",
   "execution_count": 1,
   "metadata": {
    "colab": {
     "base_uri": "https://localhost:8080/",
     "height": 212
    },
    "colab_type": "code",
    "executionInfo": {
     "elapsed": 17995,
     "status": "ok",
     "timestamp": 1562898065303,
     "user": {
      "displayName": "Anni Alejandra Piragauta Urrea",
      "photoUrl": "https://lh5.googleusercontent.com/-iEUBFNaFH-0/AAAAAAAAAAI/AAAAAAAAAAo/JGyG98Ab3Hs/s64/photo.jpg",
      "userId": "07208906637070303459"
     },
     "user_tz": 300
    },
    "id": "_CgR01056Cx4",
    "outputId": "0313a360-1c90-41f1-9aa8-343c4f282351"
   },
   "outputs": [
    {
     "name": "stdout",
     "output_type": "stream",
     "text": [
      "Collecting glove_python\n",
      "\u001b[?25l  Downloading https://files.pythonhosted.org/packages/3e/79/7e7e548dd9dcb741935d031117f4bed133276c2a047aadad42f1552d1771/glove_python-0.1.0.tar.gz (263kB)\n",
      "\u001b[K     |████████████████████████████████| 266kB 1.8MB/s \n",
      "\u001b[?25hRequirement already satisfied: numpy in /usr/local/lib/python3.6/dist-packages (from glove_python) (1.16.4)\n",
      "Requirement already satisfied: scipy in /usr/local/lib/python3.6/dist-packages (from glove_python) (1.3.0)\n",
      "Building wheels for collected packages: glove-python\n",
      "  Building wheel for glove-python (setup.py) ... \u001b[?25l\u001b[?25hdone\n",
      "  Stored in directory: /root/.cache/pip/wheels/88/4b/6d/10c0d2ad32c9d9d68beec9694a6f0b6e83ab1662a90a089a4b\n",
      "Successfully built glove-python\n",
      "Installing collected packages: glove-python\n",
      "Successfully installed glove-python-0.1.0\n"
     ]
    }
   ],
   "source": [
    "#Instalar la librería glove\n",
    "pip install glove_python"
   ]
  },
  {
   "cell_type": "code",
   "execution_count": 0,
   "metadata": {
    "colab": {},
    "colab_type": "code",
    "id": "b4OUD1wU5z83"
   },
   "outputs": [],
   "source": [
    "#Importando la librería glove\n",
    "from glove import Corpus, Glove"
   ]
  },
  {
   "cell_type": "code",
   "execution_count": 0,
   "metadata": {
    "colab": {},
    "colab_type": "code",
    "id": "90zx-gE67C4c"
   },
   "outputs": [],
   "source": [
    "#Para que el modelo procese los datos, necesitamos convertir su entrada en una matriz de palabras de 2 dimensiones\n",
    "sentences = [['this', 'is', 'the', 'first', 'sentence', 'for', 'glove'],\n",
    "             ['this', 'is', 'the', 'second', 'sentence'],\n",
    "             ['yet', 'another', 'sentence'],\n",
    "             ['one', 'more', 'sentence'],\n",
    "             ['and', 'the', 'final', 'sentence']]"
   ]
  },
  {
   "cell_type": "code",
   "execution_count": 0,
   "metadata": {
    "colab": {},
    "colab_type": "code",
    "id": "cjUN0LDT6pJ1"
   },
   "outputs": [],
   "source": [
    "#creando un objeto corpus\n",
    "corpus = Corpus()"
   ]
  },
  {
   "cell_type": "code",
   "execution_count": 0,
   "metadata": {
    "colab": {},
    "colab_type": "code",
    "id": "Ptb12aQ-7faK"
   },
   "outputs": [],
   "source": [
    "#entrenar el corpus para generar la matriz de co-ocurrencia que se usa en GloVe\n",
    "corpus.fit(sentences, window=10)"
   ]
  },
  {
   "cell_type": "code",
   "execution_count": 6,
   "metadata": {
    "colab": {
     "base_uri": "https://localhost:8080/",
     "height": 567
    },
    "colab_type": "code",
    "executionInfo": {
     "elapsed": 14264,
     "status": "ok",
     "timestamp": 1562898065326,
     "user": {
      "displayName": "Anni Alejandra Piragauta Urrea",
      "photoUrl": "https://lh5.googleusercontent.com/-iEUBFNaFH-0/AAAAAAAAAAI/AAAAAAAAAAo/JGyG98Ab3Hs/s64/photo.jpg",
      "userId": "07208906637070303459"
     },
     "user_tz": 300
    },
    "id": "VL_2GZbtCch7",
    "outputId": "1b7fb489-e756-4387-a57e-9fcfcd4a110b"
   },
   "outputs": [
    {
     "name": "stdout",
     "output_type": "stream",
     "text": [
      "Performing 30 training epochs with 4 threads\n",
      "Epoch 0\n",
      "Epoch 1\n",
      "Epoch 2\n",
      "Epoch 3\n",
      "Epoch 4\n",
      "Epoch 5\n",
      "Epoch 6\n",
      "Epoch 7\n",
      "Epoch 8\n",
      "Epoch 9\n",
      "Epoch 10\n",
      "Epoch 11\n",
      "Epoch 12\n",
      "Epoch 13\n",
      "Epoch 14\n",
      "Epoch 15\n",
      "Epoch 16\n",
      "Epoch 17\n",
      "Epoch 18\n",
      "Epoch 19\n",
      "Epoch 20\n",
      "Epoch 21\n",
      "Epoch 22\n",
      "Epoch 23\n",
      "Epoch 24\n",
      "Epoch 25\n",
      "Epoch 26\n",
      "Epoch 27\n",
      "Epoch 28\n",
      "Epoch 29\n"
     ]
    }
   ],
   "source": [
    "#creando un objeto GloVe que usará la matriz creada en las líneas anteriores para crear incrustaciones\n",
    "#Podemos establecer la velocidad de aprendizaje, ya que utiliza Gradient Descent y la cantidad de componentes.\n",
    "glove = Glove(no_components=5, learning_rate=0.05)\n",
    "glove.fit(corpus.matrix, epochs=30, no_threads=4, verbose=True)"
   ]
  },
  {
   "cell_type": "code",
   "execution_count": 0,
   "metadata": {
    "colab": {},
    "colab_type": "code",
    "id": "sZV9bu6iCkkQ"
   },
   "outputs": [],
   "source": [
    "#Después del entrenamiento, el objeto GloVe tiene los vectores de palabras para las líneas que hemos proporcionado. \n",
    "#Pero el diccionario todavía reside en el objeto del corpus. \n",
    "#Necesitamos agregar el diccionario al objeto GloVe para hacerlo completo.\n",
    "glove.add_dictionary(corpus.dictionary)"
   ]
  },
  {
   "cell_type": "code",
   "execution_count": 8,
   "metadata": {
    "colab": {
     "base_uri": "https://localhost:8080/",
     "height": 87
    },
    "colab_type": "code",
    "executionInfo": {
     "elapsed": 439,
     "status": "ok",
     "timestamp": 1562898110410,
     "user": {
      "displayName": "Anni Alejandra Piragauta Urrea",
      "photoUrl": "https://lh5.googleusercontent.com/-iEUBFNaFH-0/AAAAAAAAAAI/AAAAAAAAAAo/JGyG98Ab3Hs/s64/photo.jpg",
      "userId": "07208906637070303459"
     },
     "user_tz": 300
    },
    "id": "QwmHlkn8Cn2u",
    "outputId": "6ca2d673-568c-4f2c-c3c1-7f5745f98aa4"
   },
   "outputs": [
    {
     "data": {
      "text/plain": [
       "[('more', 0.890349974419948),\n",
       " ('one', 0.3814940942866905),\n",
       " ('final', 0.3565708934271205),\n",
       " ('this', 0.3494551114148251)]"
      ]
     },
     "execution_count": 8,
     "metadata": {
      "tags": []
     },
     "output_type": "execute_result"
    }
   ],
   "source": [
    "#Encontrando palabras similares dentro del contexto\n",
    "glove.most_similar('first')"
   ]
  },
  {
   "cell_type": "code",
   "execution_count": 9,
   "metadata": {
    "colab": {
     "base_uri": "https://localhost:8080/",
     "height": 34
    },
    "colab_type": "code",
    "executionInfo": {
     "elapsed": 457,
     "status": "ok",
     "timestamp": 1562898113926,
     "user": {
      "displayName": "Anni Alejandra Piragauta Urrea",
      "photoUrl": "https://lh5.googleusercontent.com/-iEUBFNaFH-0/AAAAAAAAAAI/AAAAAAAAAAo/JGyG98Ab3Hs/s64/photo.jpg",
      "userId": "07208906637070303459"
     },
     "user_tz": 300
    },
    "id": "kAjy8Lt3VRgh",
    "outputId": "782ad34f-0dd4-4480-adae-8af99c4dcc0d"
   },
   "outputs": [
    {
     "data": {
      "text/plain": [
       "array([ 0.08549441, -0.07320978,  0.07601176,  0.06625507, -0.05049092])"
      ]
     },
     "execution_count": 9,
     "metadata": {
      "tags": []
     },
     "output_type": "execute_result"
    }
   ],
   "source": [
    "#Vector de representación de una palabla del corpus.\n",
    "glove.word_vectors[glove.dictionary['another']]"
   ]
  },
  {
   "cell_type": "markdown",
   "metadata": {
    "colab_type": "text",
    "id": "-3UdHLAL_1Z7"
   },
   "source": [
    "**Comentarios:** Se evidencia la representación vectorial de los elementos de un corpus, por medio de GloVe, además de entontrar las palabras más similares dentro del corpus."
   ]
  }
 ],
 "metadata": {
  "colab": {
   "collapsed_sections": [],
   "name": "05_GloVe2.ipynb",
   "provenance": [
    {
     "file_id": "1SsoDSHx8-tT4rrOx5sD5mddZ28Tx-gdE",
     "timestamp": 1562888744177
    }
   ],
   "version": "0.3.2"
  },
  "kernelspec": {
   "display_name": "Python 3",
   "language": "python",
   "name": "python3"
  },
  "language_info": {
   "codemirror_mode": {
    "name": "ipython",
    "version": 3
   },
   "file_extension": ".py",
   "mimetype": "text/x-python",
   "name": "python",
   "nbconvert_exporter": "python",
   "pygments_lexer": "ipython3",
   "version": "3.6.8"
  }
 },
 "nbformat": 4,
 "nbformat_minor": 1
}
