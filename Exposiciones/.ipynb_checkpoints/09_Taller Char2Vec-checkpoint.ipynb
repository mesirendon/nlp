{
 "cells": [
  {
   "cell_type": "markdown",
   "metadata": {
    "colab_type": "text",
    "id": "8CrkB2OzDlHm"
   },
   "source": [
    "# Instalar librería\n"
   ]
  },
  {
   "cell_type": "code",
   "execution_count": 1,
   "metadata": {
    "colab": {
     "base_uri": "https://localhost:8080/",
     "height": 176
    },
    "colab_type": "code",
    "executionInfo": {
     "elapsed": 8992,
     "status": "ok",
     "timestamp": 1562899854756,
     "user": {
      "displayName": "Anni Alejandra Piragauta Urrea",
      "photoUrl": "https://lh5.googleusercontent.com/-iEUBFNaFH-0/AAAAAAAAAAI/AAAAAAAAAAo/JGyG98Ab3Hs/s64/photo.jpg",
      "userId": "07208906637070303459"
     },
     "user_tz": 300
    },
    "id": "1xEn-OyQ-BOa",
    "outputId": "768e725b-6f01-41cd-fff2-4ab560a893fe"
   },
   "outputs": [
    {
     "name": "stdout",
     "output_type": "stream",
     "text": [
      "Collecting chars2vec\n",
      "\u001b[?25l  Downloading https://files.pythonhosted.org/packages/04/0a/8c327aae23e0532d239ec7b30446aca765eb5d9547b4c4b09cdd82e49797/chars2vec-0.1.7.tar.gz (8.1MB)\n",
      "\u001b[K     |████████████████████████████████| 8.1MB 1.8MB/s \n",
      "\u001b[?25hBuilding wheels for collected packages: chars2vec\n",
      "  Building wheel for chars2vec (setup.py) ... \u001b[?25l\u001b[?25hdone\n",
      "  Stored in directory: /root/.cache/pip/wheels/97/b6/65/d7e778ef1213ec77d315aea0f536068b96e36cc94c02abbfde\n",
      "Successfully built chars2vec\n",
      "Installing collected packages: chars2vec\n",
      "Successfully installed chars2vec-0.1.7\n"
     ]
    }
   ],
   "source": [
    "!pip install chars2vec "
   ]
  },
  {
   "cell_type": "code",
   "execution_count": 2,
   "metadata": {
    "colab": {
     "base_uri": "https://localhost:8080/",
     "height": 34
    },
    "colab_type": "code",
    "executionInfo": {
     "elapsed": 14314,
     "status": "ok",
     "timestamp": 1562899860080,
     "user": {
      "displayName": "Anni Alejandra Piragauta Urrea",
      "photoUrl": "https://lh5.googleusercontent.com/-iEUBFNaFH-0/AAAAAAAAAAI/AAAAAAAAAAo/JGyG98Ab3Hs/s64/photo.jpg",
      "userId": "07208906637070303459"
     },
     "user_tz": 300
    },
    "id": "0-iLM2Oy95Om",
    "outputId": "14dd3766-46a2-40b8-fab1-1c1a799aec06"
   },
   "outputs": [
    {
     "name": "stderr",
     "output_type": "stream",
     "text": [
      "Using TensorFlow backend.\n"
     ]
    }
   ],
   "source": [
    "import chars2vec\n",
    "import sklearn.decomposition\n",
    "import matplotlib.pyplot as plt\n",
    "from sklearn.manifold import TSNE\n",
    "from sklearn.datasets import fetch_20newsgroups\n"
   ]
  },
  {
   "cell_type": "markdown",
   "metadata": {
    "colab_type": "text",
    "id": "N0U4gmU5-RPX"
   },
   "source": [
    "# Char2Vec\n",
    "\n",
    "1. Cargar el modelo chars2vec\n",
    "2. Generar una lista de palabras con errores de ortografía \n",
    "3. Reducción de dimensionalidad usando PCA de los vectores de la lista de palabras del punto 2\n",
    "4. Graficar la cercanía entre las palabras según su análisis de caracteres"
   ]
  },
  {
   "cell_type": "markdown",
   "metadata": {
    "colab_type": "text",
    "id": "krbUIVNV-Nwu"
   },
   "source": []
  },
  {
   "cell_type": "code",
   "execution_count": 3,
   "metadata": {
    "colab": {
     "base_uri": "https://localhost:8080/",
     "height": 267
    },
    "colab_type": "code",
    "executionInfo": {
     "elapsed": 16626,
     "status": "ok",
     "timestamp": 1562899862393,
     "user": {
      "displayName": "Anni Alejandra Piragauta Urrea",
      "photoUrl": "https://lh5.googleusercontent.com/-iEUBFNaFH-0/AAAAAAAAAAI/AAAAAAAAAAo/JGyG98Ab3Hs/s64/photo.jpg",
      "userId": "07208906637070303459"
     },
     "user_tz": 300
    },
    "id": "_DF7YS1k9-bZ",
    "outputId": "e439a0d8-de90-4d85-e1e9-eb226421d3aa"
   },
   "outputs": [
    {
     "name": "stderr",
     "output_type": "stream",
     "text": [
      "WARNING: Logging before flag parsing goes to stderr.\n",
      "W0712 02:50:59.769373 139683873011584 deprecation_wrapper.py:119] From /usr/local/lib/python3.6/dist-packages/keras/backend/tensorflow_backend.py:74: The name tf.get_default_graph is deprecated. Please use tf.compat.v1.get_default_graph instead.\n",
      "\n",
      "W0712 02:50:59.830381 139683873011584 deprecation_wrapper.py:119] From /usr/local/lib/python3.6/dist-packages/keras/backend/tensorflow_backend.py:517: The name tf.placeholder is deprecated. Please use tf.compat.v1.placeholder instead.\n",
      "\n",
      "W0712 02:50:59.838852 139683873011584 deprecation_wrapper.py:119] From /usr/local/lib/python3.6/dist-packages/keras/backend/tensorflow_backend.py:4138: The name tf.random_uniform is deprecated. Please use tf.random.uniform instead.\n",
      "\n",
      "W0712 02:51:01.218704 139683873011584 deprecation_wrapper.py:119] From /usr/local/lib/python3.6/dist-packages/keras/optimizers.py:790: The name tf.train.Optimizer is deprecated. Please use tf.compat.v1.train.Optimizer instead.\n",
      "\n",
      "W0712 02:51:01.268248 139683873011584 deprecation_wrapper.py:119] From /usr/local/lib/python3.6/dist-packages/keras/backend/tensorflow_backend.py:174: The name tf.get_default_session is deprecated. Please use tf.compat.v1.get_default_session instead.\n",
      "\n",
      "W0712 02:51:01.269524 139683873011584 deprecation_wrapper.py:119] From /usr/local/lib/python3.6/dist-packages/keras/backend/tensorflow_backend.py:181: The name tf.ConfigProto is deprecated. Please use tf.compat.v1.ConfigProto instead.\n",
      "\n"
     ]
    }
   ],
   "source": [
    "# Models names: 'eng_50', 'eng_100', 'eng_150' 'eng_200', 'eng_300'\n",
    "c2v_model = chars2vec.load_model('eng_300')\n",
    "\n",
    "words = ['Natural', 'Language', 'Understanding',\n",
    "         'Naturael', 'Longuge', 'Updderctundjing',\n",
    "         'Motural', 'Lamnguoge', 'Understaating',\n",
    "         'Naturrow', 'Laguage', 'Unddertandink',\n",
    "         'Nattural', 'Languagge', 'Umderstoneding']\n",
    "\n",
    "# Create word embeddings\n",
    "word_embeddings = c2v_model.vectorize_words(words)\n",
    "\n",
    "# Project embeddings on plane using the PCA\n",
    "projection_2d = sklearn.decomposition.PCA(n_components=2).fit_transform(word_embeddings)"
   ]
  },
  {
   "cell_type": "markdown",
   "metadata": {
    "colab_type": "text",
    "id": "EJ07hI4PD0v2"
   },
   "source": [
    "# Graficar\n"
   ]
  },
  {
   "cell_type": "code",
   "execution_count": 4,
   "metadata": {
    "colab": {
     "base_uri": "https://localhost:8080/",
     "height": 812
    },
    "colab_type": "code",
    "executionInfo": {
     "elapsed": 1528,
     "status": "ok",
     "timestamp": 1562899871142,
     "user": {
      "displayName": "Anni Alejandra Piragauta Urrea",
      "photoUrl": "https://lh5.googleusercontent.com/-iEUBFNaFH-0/AAAAAAAAAAI/AAAAAAAAAAo/JGyG98Ab3Hs/s64/photo.jpg",
      "userId": "07208906637070303459"
     },
     "user_tz": 300
    },
    "id": "sf2te8jEDwWM",
    "outputId": "e6621136-dd1f-4c15-ed02-9e38384fc419"
   },
   "outputs": [
    {
     "data": {
      "image/png": "[encoded data removed]",
      "text/plain": [
       "<Figure size 1440x1008 with 1 Axes>"
      ]
     },
     "metadata": {
      "tags": []
     },
     "output_type": "display_data"
    }
   ],
   "source": [
    "# Draw words on plane\n",
    "f = plt.figure(figsize=(20, 14))\n",
    "\n",
    "for j in range(len(projection_2d)):\n",
    "    plt.scatter(projection_2d[j, 0], projection_2d[j, 1],\n",
    "                marker=('$' + words[j] + '$'),\n",
    "                s=500 * len(words[j]), label=j,\n",
    "                facecolors='green' if words[j] \n",
    "                           in ['Natural', 'Language', 'Understanding'] else 'gray')\n",
    "\n",
    "plt.show()"
   ]
  },
  {
   "cell_type": "markdown",
   "metadata": {
    "colab_type": "text",
    "id": "rkzn040X_8_C"
   },
   "source": [
    "# Entrenar un modelo\n",
    "\n",
    "* X_train: Contiene una tupla de palabras\n",
    "* y_train: Tag para cada tupla, palabras similares 0, palabras diferentes 1\n",
    "* model_chars: Lista de caracteres para el vocabulario"
   ]
  },
  {
   "cell_type": "code",
   "execution_count": 0,
   "metadata": {
    "colab": {},
    "colab_type": "code",
    "id": "VpgsArIz-hKS"
   },
   "outputs": [],
   "source": [
    "import chars2vec\n",
    "\n",
    "dim = 50\n",
    "\n",
    "path_to_model = './model'\n",
    "\n",
    "X_train = [('mecbanizing', 'mechanizing'), # similar words, target is equal 0\n",
    "           ('dicovery', 'dis7overy'), # similar words, target is equal 0\n",
    "           ('prot$oplasmatic', 'prtoplasmatic'), # similar words, target is equal 0\n",
    "           ('copulateng', 'lzateful'), # not similar words, target is equal 1\n",
    "           ('estry', 'evadin6'), # not similar words, target is equal 1\n",
    "           ('cirrfosis', 'afear') # not similar words, target is equal 1\n",
    "          ]\n",
    "\n",
    "y_train = [0, 0, 0, 1, 1, 1]\n",
    "\n",
    "model_chars = ['!', '\"', '#', '$', '%', '&', \"'\", '(', ')', '*', '+', ',', '-', '.',\n",
    "               '/', '0', '1', '2', '3', '4', '5', '6', '7', '8', '9', ':', ';', '<',\n",
    "               '=', '>', '?', '@', '_', 'a', 'b', 'c', 'd', 'e', 'f', 'g', 'h', 'i',\n",
    "               'j', 'k', 'l', 'm', 'n', 'o', 'p', 'q', 'r', 's', 't', 'u', 'v', 'w',\n",
    "               'x', 'y', 'z']"
   ]
  },
  {
   "cell_type": "code",
   "execution_count": 6,
   "metadata": {
    "colab": {
     "base_uri": "https://localhost:8080/",
     "height": 498
    },
    "colab_type": "code",
    "executionInfo": {
     "elapsed": 8110,
     "status": "ok",
     "timestamp": 1562899888049,
     "user": {
      "displayName": "Anni Alejandra Piragauta Urrea",
      "photoUrl": "https://lh5.googleusercontent.com/-iEUBFNaFH-0/AAAAAAAAAAI/AAAAAAAAAAo/JGyG98Ab3Hs/s64/photo.jpg",
      "userId": "07208906637070303459"
     },
     "user_tz": 300
    },
    "id": "wSCjZM8kD8RR",
    "outputId": "3c7261c7-d297-4df9-f408-f1a63905d249"
   },
   "outputs": [
    {
     "name": "stderr",
     "output_type": "stream",
     "text": [
      "W0712 02:51:21.694849 139683873011584 deprecation.py:323] From /usr/local/lib/python3.6/dist-packages/tensorflow/python/ops/math_grad.py:1250: add_dispatch_support.<locals>.wrapper (from tensorflow.python.ops.array_ops) is deprecated and will be removed in a future version.\n",
      "Instructions for updating:\n",
      "Use tf.where in 2.0, which has the same broadcast rule as np.where\n"
     ]
    },
    {
     "name": "stdout",
     "output_type": "stream",
     "text": [
      "Train on 5 samples, validate on 1 samples\n",
      "Epoch 1/200\n",
      "5/5 [==============================] - 3s 578ms/step - loss: 0.5005 - val_loss: 0.5046\n",
      "Epoch 2/200\n",
      "5/5 [==============================] - 0s 8ms/step - loss: 0.5004 - val_loss: 0.5048\n",
      "Epoch 3/200\n",
      "5/5 [==============================] - 0s 7ms/step - loss: 0.5002 - val_loss: 0.5050\n",
      "Epoch 4/200\n",
      "5/5 [==============================] - 0s 7ms/step - loss: 0.5000 - val_loss: 0.5052\n",
      "Epoch 5/200\n",
      "5/5 [==============================] - 0s 7ms/step - loss: 0.4999 - val_loss: 0.5055\n",
      "Epoch 6/200\n",
      "5/5 [==============================] - 0s 9ms/step - loss: 0.4997 - val_loss: 0.5057\n",
      "Epoch 7/200\n",
      "5/5 [==============================] - 0s 8ms/step - loss: 0.4996 - val_loss: 0.5060\n",
      "Epoch 8/200\n",
      "5/5 [==============================] - 0s 8ms/step - loss: 0.4994 - val_loss: 0.5063\n",
      "Epoch 9/200\n",
      "5/5 [==============================] - 0s 7ms/step - loss: 0.4993 - val_loss: 0.5067\n",
      "Epoch 10/200\n",
      "5/5 [==============================] - 0s 7ms/step - loss: 0.4991 - val_loss: 0.5070\n",
      "Epoch 11/200\n",
      "5/5 [==============================] - 0s 8ms/step - loss: 0.4990 - val_loss: 0.5074\n"
     ]
    }
   ],
   "source": [
    "# Create and train chars2vec model using given training data\n",
    "my_c2v_model = chars2vec.train_model(dim, X_train, y_train, model_chars)\n",
    "\n",
    "# Save pretrained model\n",
    "chars2vec.save_model(my_c2v_model, path_to_model)"
   ]
  },
  {
   "cell_type": "code",
   "execution_count": 0,
   "metadata": {
    "colab": {},
    "colab_type": "code",
    "id": "Hb0JDexJD-3M"
   },
   "outputs": [],
   "source": [
    "words = ['list', 'of', 'words', 'dicovery']\n",
    "\n",
    "# Load pretrained model, create word embeddings\n",
    "c2v_model = chars2vec.load_model(path_to_model)\n",
    "word_embeddings = c2v_model.vectorize_words(words)"
   ]
  },
  {
   "cell_type": "code",
   "execution_count": 8,
   "metadata": {
    "colab": {
     "base_uri": "https://localhost:8080/",
     "height": 812
    },
    "colab_type": "code",
    "executionInfo": {
     "elapsed": 1084,
     "status": "ok",
     "timestamp": 1562899898337,
     "user": {
      "displayName": "Anni Alejandra Piragauta Urrea",
      "photoUrl": "https://lh5.googleusercontent.com/-iEUBFNaFH-0/AAAAAAAAAAI/AAAAAAAAAAo/JGyG98Ab3Hs/s64/photo.jpg",
      "userId": "07208906637070303459"
     },
     "user_tz": 300
    },
    "id": "tnPuYhHm-zxB",
    "outputId": "9f3c3638-8b3f-4cb5-a305-d3152d52ad79"
   },
   "outputs": [
    {
     "data": {
      "image/png": "[encoded data removed]",
      "text/plain": [
       "<Figure size 1440x1008 with 1 Axes>"
      ]
     },
     "metadata": {
      "tags": []
     },
     "output_type": "display_data"
    }
   ],
   "source": [
    "# Project embeddings on plane using the PCA\n",
    "projection_2d = sklearn.decomposition.PCA(n_components=2).fit_transform(word_embeddings)\n",
    "\n",
    "# Draw words on plane\n",
    "f = plt.figure(figsize=(20, 14))\n",
    "\n",
    "for j in range(len(projection_2d)):\n",
    "    plt.scatter(projection_2d[j, 0], projection_2d[j, 1],\n",
    "                marker=('$' + words[j] + '$'),\n",
    "                s=500 * len(words[j]), label=j,\n",
    "                facecolors='green')\n",
    "\n",
    "plt.show()"
   ]
  },
  {
   "cell_type": "markdown",
   "metadata": {
    "colab_type": "text",
    "id": "i2fENqFiGBiC"
   },
   "source": [
    "**Comentarios:** En este taller se utiliza la representación vectorial de las palabras, para encontrar similitud entre ellas, además dado un conjunto de palabras con errores de ortografía, se puede encontrar la palabra más cercana a todas y esta podrá ser considerada palabra correcta."
   ]
  }
 ],
 "metadata": {
  "colab": {
   "collapsed_sections": [],
   "name": "09_Taller Char2Vec.ipynb",
   "provenance": [
    {
     "file_id": "16gxS6KIrudH4NK0S4JTnPRPhw2lnSTxi",
     "timestamp": 1562889245533
    }
   ],
   "version": "0.3.2"
  },
  "kernelspec": {
   "display_name": "Python 3",
   "language": "python",
   "name": "python3"
  },
  "language_info": {
   "codemirror_mode": {
    "name": "ipython",
    "version": 3
   },
   "file_extension": ".py",
   "mimetype": "text/x-python",
   "name": "python",
   "nbconvert_exporter": "python",
   "pygments_lexer": "ipython3",
   "version": "3.6.8"
  }
 },
 "nbformat": 4,
 "nbformat_minor": 1
}
