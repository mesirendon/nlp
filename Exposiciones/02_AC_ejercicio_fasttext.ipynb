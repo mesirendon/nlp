{
 "cells": [
  {
   "cell_type": "markdown",
   "metadata": {
    "colab_type": "text",
    "id": "K7BLvBG9KIvq"
   },
   "source": [
    "# Ejercicio Comparación word2vec y fasttext\n",
    "\n",
    "Andrés Francisco José Corso Pinzón <br>\n",
    "Universidad Nacional de Colombia<br>\n",
    "Facultad de Ingeniería<br>\n",
    "Procesamiento de Lenguaje Natural<br>\n",
    "\n",
    "*Actividad Artículo*\n",
    "\n",
    "> **Enriching Word Vectors with Subword Information**\n",
    "\n",
    "\n"
   ]
  },
  {
   "cell_type": "code",
   "execution_count": 0,
   "metadata": {
    "colab": {},
    "colab_type": "code",
    "id": "SwpCxkweHRtr"
   },
   "outputs": [],
   "source": [
    "import numpy as np\n",
    "import os\n",
    "from random import shuffle\n",
    "import re\n",
    "import urllib.request\n",
    "import zipfile\n",
    "import lxml.etree\n",
    "#download the data\n",
    "urllib.request.urlretrieve(\"https://wit3.fbk.eu/get.php?path=XML_releases/xml/ted_en-20160408.zip&filename=ted_en-20160408.zip\", filename=\"ted_en-20160408.zip\")\n",
    "# extract subtitle\n",
    "with zipfile.ZipFile('ted_en-20160408.zip', 'r') as z:\n",
    "    doc = lxml.etree.parse(z.open('ted_en-20160408.xml', 'r'))\n",
    "input_text = '\\n'.join(doc.xpath('//content/text()'))"
   ]
  },
  {
   "cell_type": "code",
   "execution_count": 0,
   "metadata": {
    "colab": {},
    "colab_type": "code",
    "id": "RyB7MiKMHU5T"
   },
   "outputs": [],
   "source": [
    "# remove parenthesis \n",
    "input_text_noparens = re.sub(r'\\([^)]*\\)', '', input_text)\n",
    "# store as list of sentences\n",
    "sentences_strings_ted = []\n",
    "for line in input_text_noparens.split('\\n'):\n",
    "    m = re.match(r'^(?:(?P<precolon>[^:]{,20}):)?(?P<postcolon>.*)$', line)\n",
    "    sentences_strings_ted.extend(sent for sent in m.groupdict()['postcolon'].split('.') if sent)\n",
    "# store as list of lists of words\n",
    "sentences_ted = []\n",
    "for sent_str in sentences_strings_ted:\n",
    "    tokens = re.sub(r\"[^a-z0-9]+\", \" \", sent_str.lower()).split()\n",
    "    sentences_ted.append(tokens)"
   ]
  },
  {
   "cell_type": "code",
   "execution_count": 0,
   "metadata": {
    "colab": {},
    "colab_type": "code",
    "id": "LWchgDxWHieE"
   },
   "outputs": [],
   "source": [
    "from gensim.models import Word2Vec\n",
    "model_ted = Word2Vec(sentences=sentences_ted, size=100, window=5, min_count=5, workers=4, sg=0)"
   ]
  },
  {
   "cell_type": "code",
   "execution_count": 0,
   "metadata": {
    "colab": {},
    "colab_type": "code",
    "id": "_uiRrwSmHLVC"
   },
   "outputs": [],
   "source": [
    "from gensim.models import FastText\n",
    "model_ted_ff = FastText(sentences_ted, size=100, window=5, min_count=5, workers=4,sg=1)"
   ]
  },
  {
   "cell_type": "code",
   "execution_count": 5,
   "metadata": {
    "colab": {
     "base_uri": "https://localhost:8080/",
     "height": 250
    },
    "colab_type": "code",
    "executionInfo": {
     "elapsed": 498,
     "status": "ok",
     "timestamp": 1562894837869,
     "user": {
      "displayName": "Anni Alejandra Piragauta Urrea",
      "photoUrl": "https://lh5.googleusercontent.com/-iEUBFNaFH-0/AAAAAAAAAAI/AAAAAAAAAAo/JGyG98Ab3Hs/s64/photo.jpg",
      "userId": "07208906637070303459"
     },
     "user_tz": 300
    },
    "id": "iky6NcOrHnGc",
    "outputId": "cf8fb9e6-e9be-442a-e17f-41ebf9fa178c"
   },
   "outputs": [
    {
     "name": "stderr",
     "output_type": "stream",
     "text": [
      "/usr/local/lib/python3.6/dist-packages/gensim/matutils.py:737: FutureWarning: Conversion of the second argument of issubdtype from `int` to `np.signedinteger` is deprecated. In future, it will be treated as `np.int64 == np.dtype(int).type`.\n",
      "  if np.issubdtype(vec.dtype, np.int):\n"
     ]
    },
    {
     "data": {
      "text/plain": [
       "[('woman', 0.8520203828811646),\n",
       " ('lady', 0.7843189239501953),\n",
       " ('guy', 0.7790833115577698),\n",
       " ('boy', 0.7505325078964233),\n",
       " ('girl', 0.7397121787071228),\n",
       " ('soldier', 0.7106786370277405),\n",
       " ('gentleman', 0.7079125046730042),\n",
       " ('poet', 0.6871396899223328),\n",
       " ('kid', 0.6771301627159119),\n",
       " ('photographer', 0.6745110154151917)]"
      ]
     },
     "execution_count": 5,
     "metadata": {
      "tags": []
     },
     "output_type": "execute_result"
    }
   ],
   "source": [
    "model_ted.wv.most_similar(\"man\")"
   ]
  },
  {
   "cell_type": "code",
   "execution_count": 6,
   "metadata": {
    "colab": {
     "base_uri": "https://localhost:8080/",
     "height": 250
    },
    "colab_type": "code",
    "executionInfo": {
     "elapsed": 516,
     "status": "ok",
     "timestamp": 1562894840920,
     "user": {
      "displayName": "Anni Alejandra Piragauta Urrea",
      "photoUrl": "https://lh5.googleusercontent.com/-iEUBFNaFH-0/AAAAAAAAAAI/AAAAAAAAAAo/JGyG98Ab3Hs/s64/photo.jpg",
      "userId": "07208906637070303459"
     },
     "user_tz": 300
    },
    "id": "nnkFUUMqIGpS",
    "outputId": "ebb3081d-74a5-4072-8ee9-2f38cbe97d2e"
   },
   "outputs": [
    {
     "name": "stderr",
     "output_type": "stream",
     "text": [
      "/usr/local/lib/python3.6/dist-packages/gensim/matutils.py:737: FutureWarning: Conversion of the second argument of issubdtype from `int` to `np.signedinteger` is deprecated. In future, it will be treated as `np.int64 == np.dtype(int).type`.\n",
      "  if np.issubdtype(vec.dtype, np.int):\n"
     ]
    },
    {
     "data": {
      "text/plain": [
       "[('batman', 0.8188140392303467),\n",
       " ('woman', 0.8083857297897339),\n",
       " ('ekman', 0.7759844064712524),\n",
       " ('fireman', 0.7726081609725952),\n",
       " ('shaman', 0.7692660689353943),\n",
       " ('foreman', 0.763339638710022),\n",
       " ('hoffman', 0.7610750794410706),\n",
       " ('jefferson', 0.7565227746963501),\n",
       " ('salman', 0.7511203289031982),\n",
       " ('guy', 0.751021146774292)]"
      ]
     },
     "execution_count": 6,
     "metadata": {
      "tags": []
     },
     "output_type": "execute_result"
    }
   ],
   "source": [
    "model_ted_ff.wv.most_similar(\"man\")"
   ]
  },
  {
   "cell_type": "code",
   "execution_count": 7,
   "metadata": {
    "colab": {
     "base_uri": "https://localhost:8080/",
     "height": 34
    },
    "colab_type": "code",
    "executionInfo": {
     "elapsed": 492,
     "status": "ok",
     "timestamp": 1562894846480,
     "user": {
      "displayName": "Anni Alejandra Piragauta Urrea",
      "photoUrl": "https://lh5.googleusercontent.com/-iEUBFNaFH-0/AAAAAAAAAAI/AAAAAAAAAAo/JGyG98Ab3Hs/s64/photo.jpg",
      "userId": "07208906637070303459"
     },
     "user_tz": 300
    },
    "id": "tLzBkKhEHt9y",
    "outputId": "22140ba6-06d0-42b2-9194-506d208fb47a"
   },
   "outputs": [
    {
     "name": "stdout",
     "output_type": "stream",
     "text": [
      "Gastroenteritis No está en el vocabulario\n"
     ]
    }
   ],
   "source": [
    "test_word=\"Gastroenteritis\"\n",
    "try:\n",
    "  model_ted.wv.most_similar(test_word)\n",
    "except KeyError:\n",
    "  print (test_word ,\"No está en el vocabulario\")"
   ]
  },
  {
   "cell_type": "code",
   "execution_count": 8,
   "metadata": {
    "colab": {
     "base_uri": "https://localhost:8080/",
     "height": 250
    },
    "colab_type": "code",
    "executionInfo": {
     "elapsed": 504,
     "status": "ok",
     "timestamp": 1562894850417,
     "user": {
      "displayName": "Anni Alejandra Piragauta Urrea",
      "photoUrl": "https://lh5.googleusercontent.com/-iEUBFNaFH-0/AAAAAAAAAAI/AAAAAAAAAAo/JGyG98Ab3Hs/s64/photo.jpg",
      "userId": "07208906637070303459"
     },
     "user_tz": 300
    },
    "id": "QHAYaIbmIwja",
    "outputId": "215468d8-b946-4f3c-a8e9-3ac156a3dc88"
   },
   "outputs": [
    {
     "name": "stderr",
     "output_type": "stream",
     "text": [
      "/usr/local/lib/python3.6/dist-packages/gensim/matutils.py:737: FutureWarning: Conversion of the second argument of issubdtype from `int` to `np.signedinteger` is deprecated. In future, it will be treated as `np.int64 == np.dtype(int).type`.\n",
      "  if np.issubdtype(vec.dtype, np.int):\n"
     ]
    },
    {
     "data": {
      "text/plain": [
       "[('arthritis', 0.8537188768386841),\n",
       " ('kp', 0.835217297077179),\n",
       " ('h1n1', 0.8207024335861206),\n",
       " ('ekg', 0.8148790597915649),\n",
       " ('gbm', 0.8074336051940918),\n",
       " ('tuscaloosa', 0.806877851486206),\n",
       " ('msf', 0.8054326772689819),\n",
       " ('iucn', 0.8036997318267822),\n",
       " ('4shbab', 0.8031803369522095),\n",
       " ('karnataka', 0.8016887903213501)]"
      ]
     },
     "execution_count": 8,
     "metadata": {
      "tags": []
     },
     "output_type": "execute_result"
    }
   ],
   "source": [
    "model_ted_ff.wv.most_similar(test_word)"
   ]
  },
  {
   "cell_type": "markdown",
   "metadata": {
    "colab_type": "text",
    "id": "ZJ2y1G8xKA_y"
   },
   "source": [
    "Tomado de: https://towardsdatascience.com/word-embedding-with-word2vec-and-fasttext-a209c1d3e12c"
   ]
  },
  {
   "cell_type": "markdown",
   "metadata": {
    "colab_type": "text",
    "id": "ZKZhFMssyH-Y"
   },
   "source": [
    "**Comentarios:** FastText es un método más simple comparado con word2vec, este tiene en cuenta la información dentro de la palabra, además comparado con word2vec es mucho más rápido y simple, con resultados muy similiares a los que se obtienen con word2vec."
   ]
  }
 ],
 "metadata": {
  "colab": {
   "name": "02_AC_ejercicio_fasttext.ipynb",
   "provenance": [
    {
     "file_id": "1xri3aYU7eJNxnEF20IBllqSwbGALLoDA",
     "timestamp": 1562888124209
    },
    {
     "file_id": "1B9JY50TOX_Z5xkdcM8f60fUAWYXL9U7X",
     "timestamp": 1558405688032
    }
   ],
   "version": "0.3.2"
  },
  "kernelspec": {
   "display_name": "Python 3",
   "language": "python",
   "name": "python3"
  },
  "language_info": {
   "codemirror_mode": {
    "name": "ipython",
    "version": 3
   },
   "file_extension": ".py",
   "mimetype": "text/x-python",
   "name": "python",
   "nbconvert_exporter": "python",
   "pygments_lexer": "ipython3",
   "version": "3.6.8"
  }
 },
 "nbformat": 4,
 "nbformat_minor": 1
}
