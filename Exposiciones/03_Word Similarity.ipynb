{
 "cells": [
  {
   "cell_type": "markdown",
   "metadata": {
    "colab_type": "text",
    "id": "Q-XfaaXt1naM"
   },
   "source": [
    "# Word similarity\n",
    "\n",
    "**Goal:** Quantifying the similarity between pairs of words using the structure of WordNet and word co-occurrence in the Brown corpus, using PMI, LSA, and word2vec. The objective is to quantify how well these methods work by comparing to a carefully filtered human annotated gold-standard.\n",
    "\n",
    "**Dependencies:** NLTK, Numpy, Scipy, Matplotlib, Scikit-Learn, and Gensim\n",
    "\n",
    "For this workshop, we will compare the methods against a popular dataset of word similaritites called Similarity-353. The file will be downloaded and unzipped automatically. \n",
    "\n",
    "The dataset contains many rare words that should be filtered. The first goal is to generate a smaller test set where you will evaluate the word similarity methods.\n",
    "\n",
    "The filtering is meant to be based on document frequencies in the Brown corpus, in order to remove rare words. The paragraphs of Brown are meant to be considered as _documents_, they are iterable using the `paras` method of the corpus reader. The treatment is to lower-case and then lemmatize before adding the elements to the set. Then, using the information in this corpus, calculate document frequencies and remove from your test set any word pairs where at least one of the two words has a document frequency of less than 10 in this corpus. \n",
    "\n",
    "The second filter is based on words with highly ambiguous senses and involves using the NLTK WordNet corpus. The first step is to remove any words which don't have a _single primary sense_ (i.e., either having only one sense, or synset, or where the count of the most common sense is at least five and at least five times larger than the next most common sense). Also, it's expected to remove any words where the primary sense is not a noun. Removing any word pairs from the test set where at least one of the words doesn't cotain a single primary sense or if the single primary sense is not a noun.\n",
    "\n",
    "Finally print out all the pairs in the filtered test set."
   ]
  },
  {
   "cell_type": "code",
   "execution_count": 7,
   "metadata": {
    "colab": {
     "base_uri": "https://localhost:8080/",
     "height": 1000
    },
    "colab_type": "code",
    "executionInfo": {
     "elapsed": 9221,
     "status": "ok",
     "timestamp": 1562896237883,
     "user": {
      "displayName": "Anni Alejandra Piragauta Urrea",
      "photoUrl": "https://lh5.googleusercontent.com/-iEUBFNaFH-0/AAAAAAAAAAI/AAAAAAAAAAo/JGyG98Ab3Hs/s64/photo.jpg",
      "userId": "07208906637070303459"
     },
     "user_tz": 300
    },
    "id": "jzDKTkEe1hmn",
    "outputId": "dde2265e-89ec-48a9-ec95-d59ae1d3a0ab"
   },
   "outputs": [
    {
     "name": "stdout",
     "output_type": "stream",
     "text": [
      "--2019-07-12 01:50:30--  http://www.cs.technion.ac.il/~gabr/resources/data/wordsim353/wordsim353.zip\n",
      "Resolving www.cs.technion.ac.il (www.cs.technion.ac.il)... 132.68.32.15\n",
      "Connecting to www.cs.technion.ac.il (www.cs.technion.ac.il)|132.68.32.15|:80... connected.\n",
      "HTTP request sent, awaiting response... 200 OK\n",
      "Length: 23257 (23K) [application/zip]\n",
      "Saving to: ‘wordsim353.zip’\n",
      "\n",
      "wordsim353.zip      100%[===================>]  22.71K  60.9KB/s    in 0.4s    \n",
      "\n",
      "2019-07-12 01:50:31 (60.9 KB/s) - ‘wordsim353.zip’ saved [23257/23257]\n",
      "\n",
      "Archive:  wordsim353.zip\n",
      "  inflating: data/combined.csv       \n",
      "  inflating: data/set1.csv           \n",
      "  inflating: data/set2.csv           \n",
      "  inflating: data/combined.tab       \n",
      "  inflating: data/set1.tab           \n",
      "  inflating: data/set2.tab           \n",
      "  inflating: data/instructions.txt   \n",
      "Requirement already satisfied: nltk in /usr/local/lib/python3.6/dist-packages (3.2.5)\n",
      "Requirement already satisfied: numpy in /usr/local/lib/python3.6/dist-packages (1.16.4)\n",
      "Requirement already satisfied: scipy in /usr/local/lib/python3.6/dist-packages (1.3.0)\n",
      "Requirement already satisfied: matplotlib in /usr/local/lib/python3.6/dist-packages (3.0.3)\n",
      "Requirement already satisfied: sklearn in /usr/local/lib/python3.6/dist-packages (0.0)\n",
      "Requirement already satisfied: gensim in /usr/local/lib/python3.6/dist-packages (3.6.0)\n",
      "Requirement already satisfied: six in /usr/local/lib/python3.6/dist-packages (from nltk) (1.12.0)\n",
      "Requirement already satisfied: cycler>=0.10 in /usr/local/lib/python3.6/dist-packages (from matplotlib) (0.10.0)\n",
      "Requirement already satisfied: pyparsing!=2.0.4,!=2.1.2,!=2.1.6,>=2.0.1 in /usr/local/lib/python3.6/dist-packages (from matplotlib) (2.4.0)\n",
      "Requirement already satisfied: kiwisolver>=1.0.1 in /usr/local/lib/python3.6/dist-packages (from matplotlib) (1.1.0)\n",
      "Requirement already satisfied: python-dateutil>=2.1 in /usr/local/lib/python3.6/dist-packages (from matplotlib) (2.5.3)\n",
      "Requirement already satisfied: scikit-learn in /usr/local/lib/python3.6/dist-packages (from sklearn) (0.21.2)\n",
      "Requirement already satisfied: smart-open>=1.2.1 in /usr/local/lib/python3.6/dist-packages (from gensim) (1.8.4)\n",
      "Requirement already satisfied: setuptools in /usr/local/lib/python3.6/dist-packages (from kiwisolver>=1.0.1->matplotlib) (41.0.1)\n",
      "Requirement already satisfied: joblib>=0.11 in /usr/local/lib/python3.6/dist-packages (from scikit-learn->sklearn) (0.13.2)\n",
      "Requirement already satisfied: boto>=2.32 in /usr/local/lib/python3.6/dist-packages (from smart-open>=1.2.1->gensim) (2.49.0)\n",
      "Requirement already satisfied: requests in /usr/local/lib/python3.6/dist-packages (from smart-open>=1.2.1->gensim) (2.21.0)\n",
      "Requirement already satisfied: boto3 in /usr/local/lib/python3.6/dist-packages (from smart-open>=1.2.1->gensim) (1.9.180)\n",
      "Requirement already satisfied: certifi>=2017.4.17 in /usr/local/lib/python3.6/dist-packages (from requests->smart-open>=1.2.1->gensim) (2019.6.16)\n",
      "Requirement already satisfied: chardet<3.1.0,>=3.0.2 in /usr/local/lib/python3.6/dist-packages (from requests->smart-open>=1.2.1->gensim) (3.0.4)\n",
      "Requirement already satisfied: urllib3<1.25,>=1.21.1 in /usr/local/lib/python3.6/dist-packages (from requests->smart-open>=1.2.1->gensim) (1.24.3)\n",
      "Requirement already satisfied: idna<2.9,>=2.5 in /usr/local/lib/python3.6/dist-packages (from requests->smart-open>=1.2.1->gensim) (2.8)\n",
      "Requirement already satisfied: s3transfer<0.3.0,>=0.2.0 in /usr/local/lib/python3.6/dist-packages (from boto3->smart-open>=1.2.1->gensim) (0.2.1)\n",
      "Requirement already satisfied: botocore<1.13.0,>=1.12.180 in /usr/local/lib/python3.6/dist-packages (from boto3->smart-open>=1.2.1->gensim) (1.12.180)\n",
      "Requirement already satisfied: jmespath<1.0.0,>=0.7.1 in /usr/local/lib/python3.6/dist-packages (from boto3->smart-open>=1.2.1->gensim) (0.9.4)\n",
      "Requirement already satisfied: docutils>=0.10 in /usr/local/lib/python3.6/dist-packages (from botocore<1.13.0,>=1.12.180->boto3->smart-open>=1.2.1->gensim) (0.14)\n",
      "[nltk_data] Downloading collection 'all'\n",
      "[nltk_data]    | \n",
      "[nltk_data]    | Downloading package abc to /root/nltk_data...\n",
      "[nltk_data]    |   Package abc is already up-to-date!\n",
      "[nltk_data]    | Downloading package alpino to /root/nltk_data...\n",
      "[nltk_data]    |   Package alpino is already up-to-date!\n",
      "[nltk_data]    | Downloading package biocreative_ppi to\n",
      "[nltk_data]    |     /root/nltk_data...\n",
      "[nltk_data]    |   Package biocreative_ppi is already up-to-date!\n",
      "[nltk_data]    | Downloading package brown to /root/nltk_data...\n",
      "[nltk_data]    |   Package brown is already up-to-date!\n",
      "[nltk_data]    | Downloading package brown_tei to /root/nltk_data...\n",
      "[nltk_data]    |   Package brown_tei is already up-to-date!\n",
      "[nltk_data]    | Downloading package cess_cat to /root/nltk_data...\n",
      "[nltk_data]    |   Package cess_cat is already up-to-date!\n",
      "[nltk_data]    | Downloading package cess_esp to /root/nltk_data...\n",
      "[nltk_data]    |   Package cess_esp is already up-to-date!\n",
      "[nltk_data]    | Downloading package chat80 to /root/nltk_data...\n",
      "[nltk_data]    |   Package chat80 is already up-to-date!\n",
      "[nltk_data]    | Downloading package city_database to\n",
      "[nltk_data]    |     /root/nltk_data...\n",
      "[nltk_data]    |   Package city_database is already up-to-date!\n",
      "[nltk_data]    | Downloading package cmudict to /root/nltk_data...\n",
      "[nltk_data]    |   Package cmudict is already up-to-date!\n",
      "[nltk_data]    | Downloading package comparative_sentences to\n",
      "[nltk_data]    |     /root/nltk_data...\n",
      "[nltk_data]    |   Package comparative_sentences is already up-to-\n",
      "[nltk_data]    |       date!\n",
      "[nltk_data]    | Downloading package comtrans to /root/nltk_data...\n",
      "[nltk_data]    |   Package comtrans is already up-to-date!\n",
      "[nltk_data]    | Downloading package conll2000 to /root/nltk_data...\n",
      "[nltk_data]    |   Package conll2000 is already up-to-date!\n",
      "[nltk_data]    | Downloading package conll2002 to /root/nltk_data...\n",
      "[nltk_data]    |   Package conll2002 is already up-to-date!\n",
      "[nltk_data]    | Downloading package conll2007 to /root/nltk_data...\n",
      "[nltk_data]    |   Package conll2007 is already up-to-date!\n",
      "[nltk_data]    | Downloading package crubadan to /root/nltk_data...\n",
      "[nltk_data]    |   Package crubadan is already up-to-date!\n",
      "[nltk_data]    | Downloading package dependency_treebank to\n",
      "[nltk_data]    |     /root/nltk_data...\n",
      "[nltk_data]    |   Package dependency_treebank is already up-to-date!\n",
      "[nltk_data]    | Downloading package dolch to /root/nltk_data...\n",
      "[nltk_data]    |   Package dolch is already up-to-date!\n",
      "[nltk_data]    | Downloading package europarl_raw to\n",
      "[nltk_data]    |     /root/nltk_data...\n",
      "[nltk_data]    |   Package europarl_raw is already up-to-date!\n",
      "[nltk_data]    | Downloading package floresta to /root/nltk_data...\n",
      "[nltk_data]    |   Package floresta is already up-to-date!\n",
      "[nltk_data]    | Downloading package framenet_v15 to\n",
      "[nltk_data]    |     /root/nltk_data...\n",
      "[nltk_data]    |   Package framenet_v15 is already up-to-date!\n",
      "[nltk_data]    | Downloading package framenet_v17 to\n",
      "[nltk_data]    |     /root/nltk_data...\n",
      "[nltk_data]    |   Package framenet_v17 is already up-to-date!\n",
      "[nltk_data]    | Downloading package gazetteers to /root/nltk_data...\n",
      "[nltk_data]    |   Package gazetteers is already up-to-date!\n",
      "[nltk_data]    | Downloading package genesis to /root/nltk_data...\n",
      "[nltk_data]    |   Package genesis is already up-to-date!\n",
      "[nltk_data]    | Downloading package gutenberg to /root/nltk_data...\n",
      "[nltk_data]    |   Package gutenberg is already up-to-date!\n",
      "[nltk_data]    | Downloading package ieer to /root/nltk_data...\n",
      "[nltk_data]    |   Package ieer is already up-to-date!\n",
      "[nltk_data]    | Downloading package inaugural to /root/nltk_data...\n",
      "[nltk_data]    |   Package inaugural is already up-to-date!\n",
      "[nltk_data]    | Downloading package indian to /root/nltk_data...\n",
      "[nltk_data]    |   Package indian is already up-to-date!\n",
      "[nltk_data]    | Downloading package jeita to /root/nltk_data...\n",
      "[nltk_data]    |   Package jeita is already up-to-date!\n",
      "[nltk_data]    | Downloading package kimmo to /root/nltk_data...\n",
      "[nltk_data]    |   Package kimmo is already up-to-date!\n",
      "[nltk_data]    | Downloading package knbc to /root/nltk_data...\n",
      "[nltk_data]    |   Package knbc is already up-to-date!\n",
      "[nltk_data]    | Downloading package lin_thesaurus to\n",
      "[nltk_data]    |     /root/nltk_data...\n",
      "[nltk_data]    |   Package lin_thesaurus is already up-to-date!\n",
      "[nltk_data]    | Downloading package mac_morpho to /root/nltk_data...\n",
      "[nltk_data]    |   Package mac_morpho is already up-to-date!\n",
      "[nltk_data]    | Downloading package machado to /root/nltk_data...\n",
      "[nltk_data]    |   Package machado is already up-to-date!\n",
      "[nltk_data]    | Downloading package masc_tagged to /root/nltk_data...\n",
      "[nltk_data]    |   Package masc_tagged is already up-to-date!\n",
      "[nltk_data]    | Downloading package moses_sample to\n",
      "[nltk_data]    |     /root/nltk_data...\n",
      "[nltk_data]    |   Package moses_sample is already up-to-date!\n",
      "[nltk_data]    | Downloading package movie_reviews to\n",
      "[nltk_data]    |     /root/nltk_data...\n",
      "[nltk_data]    |   Package movie_reviews is already up-to-date!\n",
      "[nltk_data]    | Downloading package names to /root/nltk_data...\n",
      "[nltk_data]    |   Package names is already up-to-date!\n",
      "[nltk_data]    | Downloading package nombank.1.0 to /root/nltk_data...\n",
      "[nltk_data]    |   Package nombank.1.0 is already up-to-date!\n",
      "[nltk_data]    | Downloading package nps_chat to /root/nltk_data...\n",
      "[nltk_data]    |   Package nps_chat is already up-to-date!\n",
      "[nltk_data]    | Downloading package omw to /root/nltk_data...\n",
      "[nltk_data]    |   Package omw is already up-to-date!\n",
      "[nltk_data]    | Downloading package opinion_lexicon to\n",
      "[nltk_data]    |     /root/nltk_data...\n",
      "[nltk_data]    |   Package opinion_lexicon is already up-to-date!\n",
      "[nltk_data]    | Downloading package paradigms to /root/nltk_data...\n",
      "[nltk_data]    |   Package paradigms is already up-to-date!\n",
      "[nltk_data]    | Downloading package pil to /root/nltk_data...\n",
      "[nltk_data]    |   Package pil is already up-to-date!\n",
      "[nltk_data]    | Downloading package pl196x to /root/nltk_data...\n",
      "[nltk_data]    |   Package pl196x is already up-to-date!\n",
      "[nltk_data]    | Downloading package ppattach to /root/nltk_data...\n",
      "[nltk_data]    |   Package ppattach is already up-to-date!\n",
      "[nltk_data]    | Downloading package problem_reports to\n",
      "[nltk_data]    |     /root/nltk_data...\n",
      "[nltk_data]    |   Package problem_reports is already up-to-date!\n",
      "[nltk_data]    | Downloading package propbank to /root/nltk_data...\n",
      "[nltk_data]    |   Package propbank is already up-to-date!\n",
      "[nltk_data]    | Downloading package ptb to /root/nltk_data...\n",
      "[nltk_data]    |   Package ptb is already up-to-date!\n",
      "[nltk_data]    | Downloading package product_reviews_1 to\n",
      "[nltk_data]    |     /root/nltk_data...\n",
      "[nltk_data]    |   Package product_reviews_1 is already up-to-date!\n",
      "[nltk_data]    | Downloading package product_reviews_2 to\n",
      "[nltk_data]    |     /root/nltk_data...\n",
      "[nltk_data]    |   Package product_reviews_2 is already up-to-date!\n",
      "[nltk_data]    | Downloading package pros_cons to /root/nltk_data...\n",
      "[nltk_data]    |   Package pros_cons is already up-to-date!\n",
      "[nltk_data]    | Downloading package qc to /root/nltk_data...\n",
      "[nltk_data]    |   Package qc is already up-to-date!\n",
      "[nltk_data]    | Downloading package reuters to /root/nltk_data...\n",
      "[nltk_data]    |   Package reuters is already up-to-date!\n",
      "[nltk_data]    | Downloading package rte to /root/nltk_data...\n",
      "[nltk_data]    |   Package rte is already up-to-date!\n",
      "[nltk_data]    | Downloading package semcor to /root/nltk_data...\n",
      "[nltk_data]    |   Package semcor is already up-to-date!\n",
      "[nltk_data]    | Downloading package senseval to /root/nltk_data...\n",
      "[nltk_data]    |   Package senseval is already up-to-date!\n",
      "[nltk_data]    | Downloading package sentiwordnet to\n",
      "[nltk_data]    |     /root/nltk_data...\n",
      "[nltk_data]    |   Package sentiwordnet is already up-to-date!\n",
      "[nltk_data]    | Downloading package sentence_polarity to\n",
      "[nltk_data]    |     /root/nltk_data...\n",
      "[nltk_data]    |   Package sentence_polarity is already up-to-date!\n",
      "[nltk_data]    | Downloading package shakespeare to /root/nltk_data...\n",
      "[nltk_data]    |   Package shakespeare is already up-to-date!\n",
      "[nltk_data]    | Downloading package sinica_treebank to\n",
      "[nltk_data]    |     /root/nltk_data...\n",
      "[nltk_data]    |   Package sinica_treebank is already up-to-date!\n",
      "[nltk_data]    | Downloading package smultron to /root/nltk_data...\n",
      "[nltk_data]    |   Package smultron is already up-to-date!\n",
      "[nltk_data]    | Downloading package state_union to /root/nltk_data...\n",
      "[nltk_data]    |   Package state_union is already up-to-date!\n",
      "[nltk_data]    | Downloading package stopwords to /root/nltk_data...\n",
      "[nltk_data]    |   Package stopwords is already up-to-date!\n",
      "[nltk_data]    | Downloading package subjectivity to\n",
      "[nltk_data]    |     /root/nltk_data...\n",
      "[nltk_data]    |   Package subjectivity is already up-to-date!\n",
      "[nltk_data]    | Downloading package swadesh to /root/nltk_data...\n",
      "[nltk_data]    |   Package swadesh is already up-to-date!\n",
      "[nltk_data]    | Downloading package switchboard to /root/nltk_data...\n",
      "[nltk_data]    |   Package switchboard is already up-to-date!\n",
      "[nltk_data]    | Downloading package timit to /root/nltk_data...\n",
      "[nltk_data]    |   Package timit is already up-to-date!\n",
      "[nltk_data]    | Downloading package toolbox to /root/nltk_data...\n",
      "[nltk_data]    |   Package toolbox is already up-to-date!\n",
      "[nltk_data]    | Downloading package treebank to /root/nltk_data...\n",
      "[nltk_data]    |   Package treebank is already up-to-date!\n",
      "[nltk_data]    | Downloading package twitter_samples to\n",
      "[nltk_data]    |     /root/nltk_data...\n",
      "[nltk_data]    |   Package twitter_samples is already up-to-date!\n",
      "[nltk_data]    | Downloading package udhr to /root/nltk_data...\n",
      "[nltk_data]    |   Package udhr is already up-to-date!\n",
      "[nltk_data]    | Downloading package udhr2 to /root/nltk_data...\n",
      "[nltk_data]    |   Package udhr2 is already up-to-date!\n",
      "[nltk_data]    | Downloading package unicode_samples to\n",
      "[nltk_data]    |     /root/nltk_data...\n",
      "[nltk_data]    |   Package unicode_samples is already up-to-date!\n",
      "[nltk_data]    | Downloading package universal_treebanks_v20 to\n",
      "[nltk_data]    |     /root/nltk_data...\n",
      "[nltk_data]    |   Package universal_treebanks_v20 is already up-to-\n",
      "[nltk_data]    |       date!\n",
      "[nltk_data]    | Downloading package verbnet to /root/nltk_data...\n",
      "[nltk_data]    |   Package verbnet is already up-to-date!\n",
      "[nltk_data]    | Downloading package verbnet3 to /root/nltk_data...\n",
      "[nltk_data]    |   Package verbnet3 is already up-to-date!\n",
      "[nltk_data]    | Downloading package webtext to /root/nltk_data...\n",
      "[nltk_data]    |   Package webtext is already up-to-date!\n",
      "[nltk_data]    | Downloading package wordnet to /root/nltk_data...\n",
      "[nltk_data]    |   Package wordnet is already up-to-date!\n",
      "[nltk_data]    | Downloading package wordnet_ic to /root/nltk_data...\n",
      "[nltk_data]    |   Package wordnet_ic is already up-to-date!\n",
      "[nltk_data]    | Downloading package words to /root/nltk_data...\n",
      "[nltk_data]    |   Package words is already up-to-date!\n",
      "[nltk_data]    | Downloading package ycoe to /root/nltk_data...\n",
      "[nltk_data]    |   Package ycoe is already up-to-date!\n",
      "[nltk_data]    | Downloading package rslp to /root/nltk_data...\n",
      "[nltk_data]    |   Package rslp is already up-to-date!\n",
      "[nltk_data]    | Downloading package maxent_treebank_pos_tagger to\n",
      "[nltk_data]    |     /root/nltk_data...\n",
      "[nltk_data]    |   Package maxent_treebank_pos_tagger is already up-\n",
      "[nltk_data]    |       to-date!\n",
      "[nltk_data]    | Downloading package universal_tagset to\n",
      "[nltk_data]    |     /root/nltk_data...\n",
      "[nltk_data]    |   Package universal_tagset is already up-to-date!\n",
      "[nltk_data]    | Downloading package maxent_ne_chunker to\n",
      "[nltk_data]    |     /root/nltk_data...\n",
      "[nltk_data]    |   Package maxent_ne_chunker is already up-to-date!\n",
      "[nltk_data]    | Downloading package punkt to /root/nltk_data...\n",
      "[nltk_data]    |   Package punkt is already up-to-date!\n",
      "[nltk_data]    | Downloading package book_grammars to\n",
      "[nltk_data]    |     /root/nltk_data...\n",
      "[nltk_data]    |   Package book_grammars is already up-to-date!\n",
      "[nltk_data]    | Downloading package sample_grammars to\n",
      "[nltk_data]    |     /root/nltk_data...\n",
      "[nltk_data]    |   Package sample_grammars is already up-to-date!\n",
      "[nltk_data]    | Downloading package spanish_grammars to\n",
      "[nltk_data]    |     /root/nltk_data...\n",
      "[nltk_data]    |   Package spanish_grammars is already up-to-date!\n",
      "[nltk_data]    | Downloading package basque_grammars to\n",
      "[nltk_data]    |     /root/nltk_data...\n",
      "[nltk_data]    |   Package basque_grammars is already up-to-date!\n",
      "[nltk_data]    | Downloading package large_grammars to\n",
      "[nltk_data]    |     /root/nltk_data...\n",
      "[nltk_data]    |   Package large_grammars is already up-to-date!\n",
      "[nltk_data]    | Downloading package tagsets to /root/nltk_data...\n",
      "[nltk_data]    |   Package tagsets is already up-to-date!\n",
      "[nltk_data]    | Downloading package snowball_data to\n",
      "[nltk_data]    |     /root/nltk_data...\n",
      "[nltk_data]    |   Package snowball_data is already up-to-date!\n",
      "[nltk_data]    | Downloading package bllip_wsj_no_aux to\n",
      "[nltk_data]    |     /root/nltk_data...\n",
      "[nltk_data]    |   Package bllip_wsj_no_aux is already up-to-date!\n",
      "[nltk_data]    | Downloading package word2vec_sample to\n",
      "[nltk_data]    |     /root/nltk_data...\n",
      "[nltk_data]    |   Package word2vec_sample is already up-to-date!\n",
      "[nltk_data]    | Downloading package panlex_swadesh to\n",
      "[nltk_data]    |     /root/nltk_data...\n",
      "[nltk_data]    |   Package panlex_swadesh is already up-to-date!\n",
      "[nltk_data]    | Downloading package mte_teip5 to /root/nltk_data...\n",
      "[nltk_data]    |   Package mte_teip5 is already up-to-date!\n",
      "[nltk_data]    | Downloading package averaged_perceptron_tagger to\n",
      "[nltk_data]    |     /root/nltk_data...\n",
      "[nltk_data]    |   Package averaged_perceptron_tagger is already up-\n",
      "[nltk_data]    |       to-date!\n",
      "[nltk_data]    | Downloading package averaged_perceptron_tagger_ru to\n",
      "[nltk_data]    |     /root/nltk_data...\n",
      "[nltk_data]    |   Package averaged_perceptron_tagger_ru is already\n",
      "[nltk_data]    |       up-to-date!\n",
      "[nltk_data]    | Downloading package perluniprops to\n",
      "[nltk_data]    |     /root/nltk_data...\n",
      "[nltk_data]    |   Package perluniprops is already up-to-date!\n",
      "[nltk_data]    | Downloading package nonbreaking_prefixes to\n",
      "[nltk_data]    |     /root/nltk_data...\n",
      "[nltk_data]    |   Package nonbreaking_prefixes is already up-to-date!\n",
      "[nltk_data]    | Downloading package vader_lexicon to\n",
      "[nltk_data]    |     /root/nltk_data...\n",
      "[nltk_data]    |   Package vader_lexicon is already up-to-date!\n",
      "[nltk_data]    | Downloading package porter_test to /root/nltk_data...\n",
      "[nltk_data]    |   Package porter_test is already up-to-date!\n",
      "[nltk_data]    | Downloading package wmt15_eval to /root/nltk_data...\n",
      "[nltk_data]    |   Package wmt15_eval is already up-to-date!\n",
      "[nltk_data]    | Downloading package mwa_ppdb to /root/nltk_data...\n",
      "[nltk_data]    |   Package mwa_ppdb is already up-to-date!\n",
      "[nltk_data]    | \n",
      "[nltk_data]  Done downloading collection all\n"
     ]
    },
    {
     "data": {
      "text/plain": [
       "True"
      ]
     },
     "execution_count": 7,
     "metadata": {
      "tags": []
     },
     "output_type": "execute_result"
    }
   ],
   "source": [
    "!rm -rf *\n",
    "!wget http://www.cs.technion.ac.il/~gabr/resources/data/wordsim353/wordsim353.zip\n",
    "!unzip wordsim353.zip -d data/\n",
    "!pip3 install nltk numpy scipy matplotlib sklearn gensim\n",
    "import nltk\n",
    "nltk.download('all')"
   ]
  },
  {
   "cell_type": "code",
   "execution_count": 8,
   "metadata": {
    "colab": {
     "base_uri": "https://localhost:8080/",
     "height": 125
    },
    "colab_type": "code",
    "executionInfo": {
     "elapsed": 20507,
     "status": "ok",
     "timestamp": 1562896249205,
     "user": {
      "displayName": "Anni Alejandra Piragauta Urrea",
      "photoUrl": "https://lh5.googleusercontent.com/-iEUBFNaFH-0/AAAAAAAAAAI/AAAAAAAAAAo/JGyG98Ab3Hs/s64/photo.jpg",
      "userId": "07208906637070303459"
     },
     "user_tz": 300
    },
    "id": "FTP6XiW_7vuB",
    "outputId": "6e478edf-8908-4b33-e7ff-21a5158add52"
   },
   "outputs": [
    {
     "name": "stdout",
     "output_type": "stream",
     "text": [
      "testset length after 1st filter:\n",
      "222\n",
      "second processed dataset length:\n",
      "170\n",
      "{('love', 'sex'): ['love.n.01', 'sexual_activity.n.01'], ('book', 'paper'): ['book.n.01', 'paper.n.01'], ('plane', 'car'): ['airplane.n.01', 'car.n.01'], ('train', 'car'): ['train.n.01', 'car.n.01'], ('telephone', 'communication'): ['telephone.n.01', 'communication.n.01'], ('television', 'radio'): ['television.n.01', 'radio.n.01'], ('professor', 'doctor'): ['professor.n.01', 'doctor.n.01'], ('student', 'professor'): ['student.n.01', 'professor.n.01'], ('company', 'stock'): ['company.n.01', 'stock.n.01'], ('stock', 'market'): ['stock.n.01', 'market.n.01'], ('stock', 'phone'): ['stock.n.01', 'telephone.n.01'], ('stock', 'egg'): ['stock.n.01', 'egg.n.01'], ('stock', 'life'): ['stock.n.01', 'life.n.01'], ('bank', 'money'): ['bank.n.01', 'money.n.01'], ('wood', 'forest'): ['wood.n.01', 'forest.n.01'], ('money', 'cash'): ['money.n.01', 'cash.n.01'], ('king', 'queen'): ['king.n.01', 'queen.n.01'], ('law', 'lawyer'): ['law.n.01', 'lawyer.n.01'], ('movie', 'star'): ['movie.n.01', 'star.n.01'], ('movie', 'critic'): ['movie.n.01', 'critic.n.01'], ('movie', 'theater'): ['movie.n.01', 'theater.n.01'], ('space', 'chemistry'): ['space.n.01', 'chemistry.n.01'], ('drink', 'car'): ['drink.n.01', 'car.n.01'], ('drink', 'ear'): ['drink.n.01', 'ear.n.01'], ('drink', 'mouth'): ['drink.n.01', 'mouth.n.01'], ('baby', 'mother'): ['baby.n.01', 'mother.n.01'], ('drink', 'mother'): ['drink.n.01', 'mother.n.01'], ('car', 'automobile'): ['car.n.01', 'car.n.01'], ('journey', 'voyage'): ['journey.n.01', 'ocean_trip.n.01'], ('coast', 'shore'): ['seashore.n.01', 'shore.n.01'], ('food', 'fruit'): ['food.n.01', 'fruit.n.01'], ('brother', 'monk'): ['brother.n.01', 'monk.n.01'], ('journey', 'car'): ['journey.n.01', 'car.n.01'], ('coast', 'hill'): ['seashore.n.01', 'hill.n.01'], ('monk', 'slave'): ['monk.n.01', 'slave.n.01'], ('coast', 'forest'): ['seashore.n.01', 'forest.n.01'], ('noon', 'string'): ['noon.n.01', 'string.n.01'], ('money', 'dollar'): ['money.n.01', 'dollar.n.01'], ('money', 'wealth'): ['money.n.01', 'wealth.n.01'], ('money', 'property'): ['money.n.01', 'property.n.01'], ('money', 'possession'): ['money.n.01', 'possession.n.01'], ('money', 'bank'): ['money.n.01', 'bank.n.01'], ('money', 'operation'): ['money.n.01', 'operation.n.01'], ('psychology', 'anxiety'): ['psychology.n.01', 'anxiety.n.01'], ('psychology', 'fear'): ['psychology.n.01', 'fear.n.01'], ('psychology', 'doctor'): ['psychology.n.01', 'doctor.n.01'], ('psychology', 'mind'): ['psychology.n.01', 'mind.n.01'], ('psychology', 'health'): ['psychology.n.01', 'health.n.01'], ('psychology', 'science'): ['psychology.n.01', 'science.n.01'], ('planet', 'star'): ['planet.n.01', 'star.n.01'], ('planet', 'sun'): ['planet.n.01', 'sun.n.01'], ('planet', 'space'): ['planet.n.01', 'space.n.01'], ('cup', 'coffee'): ['cup.n.01', 'coffee.n.01'], ('cup', 'article'): ['cup.n.01', 'article.n.01'], ('cup', 'object'): ['cup.n.01', 'object.n.01'], ('cup', 'entity'): ['cup.n.01', 'entity.n.01'], ('cup', 'drink'): ['cup.n.01', 'drink.n.01'], ('cup', 'food'): ['cup.n.01', 'food.n.01'], ('cup', 'substance'): ['cup.n.01', 'substance.n.01'], ('cup', 'liquid'): ['cup.n.01', 'liquid.n.01'], ('energy', 'secretary'): ['energy.n.01', 'secretary.n.01'], ('secretary', 'senate'): ['secretary.n.01', 'senate.n.01'], ('energy', 'laboratory'): ['energy.n.01', 'lab.n.01'], ('computer', 'laboratory'): ['computer.n.01', 'lab.n.01'], ('weapon', 'secret'): ['weapon.n.01', 'secret.n.01'], ('investigation', 'effort'): ['probe.n.01', 'attempt.n.01'], ('news', 'report'): ['news.n.01', 'report.n.01'], ('canyon', 'landscape'): ['canyon.n.01', 'landscape.n.01'], ('image', 'surface'): ['image.n.01', 'surface.n.01'], ('discovery', 'space'): ['discovery.n.01', 'space.n.01'], ('computer', 'news'): ['computer.n.01', 'news.n.01'], ('territory', 'surface'): ['district.n.01', 'surface.n.01'], ('atmosphere', 'landscape'): ['atmosphere.n.01', 'landscape.n.01'], ('president', 'medal'): ['president.n.01', 'decoration.n.02'], ('record', 'number'): ['record.n.01', 'number.n.01'], ('skin', 'eye'): ['skin.n.01', 'eye.n.01'], ('theater', 'history'): ['theater.n.01', 'history.n.01'], ('century', 'year'): ['century.n.01', 'year.n.01'], ('century', 'nation'): ['century.n.01', 'state.n.04'], ('minister', 'party'): ['curate.n.01', 'party.n.01'], ('peace', 'plan'): ['peace.n.01', 'plan.n.01'], ('attempt', 'peace'): ['attempt.n.01', 'peace.n.01'], ('government', 'crisis'): ['government.n.01', 'crisis.n.01'], ('energy', 'crisis'): ['energy.n.01', 'crisis.n.01'], ('victim', 'emergency'): ['victim.n.01', 'emergency.n.01'], ('doctor', 'personnel'): ['doctor.n.01', 'force.n.04'], ('school', 'center'): ['school.n.01', 'center.n.01'], ('hundred', 'percent'): ['hundred.n.01', 'percentage.n.01'], ('death', 'row'): ['death.n.01', 'row.n.01'], ('lawyer', 'evidence'): ['lawyer.n.01', 'evidence.n.01'], ('life', 'death'): ['life.n.01', 'death.n.01'], ('life', 'term'): ['life.n.01', 'term.n.01'], ('word', 'similarity'): ['word.n.01', 'similarity.n.01'], ('board', 'recommendation'): ['board.n.01', 'recommendation.n.01'], ('governor', 'interview'): ['governor.n.01', 'interview.n.01'], ('peace', 'atmosphere'): ['peace.n.01', 'atmosphere.n.01'], ('peace', 'insurance'): ['peace.n.01', 'insurance.n.01'], ('travel', 'activity'): ['travel.n.01', 'activity.n.01'], ('competition', 'price'): ['competition.n.01', 'monetary_value.n.01'], ('consumer', 'confidence'): ['consumer.n.01', 'assurance.n.01'], ('consumer', 'energy'): ['consumer.n.01', 'energy.n.01'], ('problem', 'airport'): ['problem.n.01', 'airport.n.01'], ('car', 'flight'): ['car.n.01', 'flight.n.01'], ('credit', 'card'): ['recognition.n.03', 'card.n.01'], ('credit', 'information'): ['recognition.n.03', 'information.n.01'], ('hotel', 'reservation'): ['hotel.n.01', 'reservation.n.01'], ('registration', 'arrangement'): ['registration.n.01', 'agreement.n.04'], ('month', 'hotel'): ['calendar_month.n.01', 'hotel.n.01'], ('type', 'kind'): ['type.n.01', 'kind.n.01'], ('situation', 'conclusion'): ['situation.n.01', 'decision.n.02'], ('direction', 'combination'): ['direction.n.01', 'combination.n.01'], ('street', 'place'): ['street.n.01', 'topographic_point.n.01'], ('street', 'block'): ['street.n.01', 'block.n.01'], ('cell', 'phone'): ['cell.n.01', 'telephone.n.01'], ('dividend', 'payment'): ['dividend.n.01', 'payment.n.01'], ('dividend', 'calculation'): ['dividend.n.01', 'calculation.n.01'], ('oil', 'stock'): ['oil.n.01', 'stock.n.01'], ('profit', 'warning'): ['net_income.n.01', 'warning.n.01'], ('profit', 'loss'): ['net_income.n.01', 'loss.n.01'], ('dollar', 'profit'): ['dollar.n.01', 'net_income.n.01'], ('dollar', 'loss'): ['dollar.n.01', 'loss.n.01'], ('phone', 'equipment'): ['telephone.n.01', 'equipment.n.01'], ('equipment', 'maker'): ['equipment.n.01', 'maker.n.01'], ('luxury', 'car'): ['luxury.n.01', 'car.n.01'], ('report', 'gain'): ['report.n.01', 'addition.n.03'], ('liquid', 'water'): ['liquid.n.01', 'water.n.01'], ('baseball', 'season'): ['baseball.n.01', 'season.n.01'], ('game', 'victory'): ['game.n.01', 'victory.n.01'], ('game', 'team'): ['game.n.01', 'team.n.01'], ('game', 'series'): ['game.n.01', 'series.n.01'], ('game', 'defeat'): ['game.n.01', 'defeat.n.01'], ('food', 'preparation'): ['food.n.01', 'preparation.n.01'], ('start', 'year'): ['start.n.01', 'year.n.01'], ('game', 'round'): ['game.n.01', 'round.n.01'], ('line', 'insurance'): ['line.n.01', 'insurance.n.01'], ('day', 'summer'): ['day.n.01', 'summer.n.01'], ('summer', 'nature'): ['summer.n.01', 'nature.n.01'], ('day', 'dawn'): ['day.n.01', 'dawn.n.01'], ('nature', 'environment'): ['nature.n.01', 'environment.n.01'], ('nature', 'man'): ['nature.n.01', 'man.n.01'], ('man', 'woman'): ['man.n.01', 'woman.n.01'], ('man', 'governor'): ['man.n.01', 'governor.n.01'], ('soap', 'opera'): ['soap.n.01', 'opera.n.01'], ('opera', 'performance'): ['opera.n.01', 'performance.n.01'], ('life', 'lesson'): ['life.n.01', 'lesson.n.01'], ('focus', 'life'): ['focus.n.01', 'life.n.01'], ('production', 'crew'): ['production.n.01', 'crew.n.01'], ('television', 'film'): ['television.n.01', 'movie.n.01'], ('possibility', 'girl'): ['possibility.n.01', 'girl.n.01'], ('population', 'development'): ['population.n.01', 'development.n.01'], ('morality', 'importance'): ['morality.n.01', 'importance.n.01'], ('morality', 'marriage'): ['morality.n.01', 'marriage.n.01'], ('change', 'attitude'): ['change.n.01', 'attitude.n.01'], ('family', 'planning'): ['family.n.01', 'planning.n.01'], ('opera', 'industry'): ['opera.n.01', 'industry.n.01'], ('sugar', 'approach'): ['sugar.n.01', 'approach.n.01'], ('practice', 'institution'): ['practice.n.01', 'institution.n.01'], ('problem', 'challenge'): ['problem.n.01', 'challenge.n.01'], ('country', 'citizen'): ['state.n.04', 'citizen.n.01'], ('planet', 'people'): ['planet.n.01', 'people.n.01'], ('development', 'issue'): ['development.n.01', 'issue.n.01'], ('experience', 'music'): ['experience.n.01', 'music.n.01'], ('music', 'project'): ['music.n.01', 'undertaking.n.01'], ('glass', 'metal'): ['glass.n.01', 'metallic_element.n.01'], ('aluminum', 'metal'): ['aluminum.n.01', 'metallic_element.n.01'], ('museum', 'theater'): ['museum.n.01', 'theater.n.01'], ('space', 'world'): ['space.n.01', 'universe.n.01'], ('shower', 'flood'): ['shower.n.01', 'flood.n.01'], ('disaster', 'area'): ['catastrophe.n.02', 'area.n.01'], ('governor', 'office'): ['governor.n.01', 'office.n.01']}\n"
     ]
    }
   ],
   "source": [
    "import re\n",
    "import nltk\n",
    "from nltk.corpus import brown\n",
    "from nltk.stem import WordNetLemmatizer\n",
    "import nltk.corpus.reader.plaintext as reader\n",
    "from nltk.wsd import wordnet as wn\n",
    "\n",
    "dataset_path = 'data/combined.tab'\n",
    "head = str('Word 1\\tWord 2\\tHuman (mean)\\n')\n",
    "\n",
    "def con_dic(dataset_path):\n",
    "  dataset = open(dataset_path, \"r\")\n",
    "  next(dataset)\n",
    "  testset = {}\n",
    "  #key = (word1,word2) word pairs in combined.tag\n",
    "  for l in dataset:\n",
    "    k1 = re.sub(r'^([a-zA-Z]+)\t[a-zA-Z]+\t[0-9.]+$',r'\\1',l)\n",
    "    k2 = re.sub(r'^[a-zA-Z]+\t([a-zA-Z]+)\t[0-9.]+$',r'\\1',l)\n",
    "    key = (k1.strip('\\n'),k2.strip('\\n'))\n",
    "    value = re.sub(r'^[a-zA-Z]+\t[a-zA-Z]+\t([0-9.]+)$',r'\\1',l)\n",
    "    testset[key] = float(value)\n",
    "  return testset\n",
    "\n",
    "def doc_setup(dictionary):\n",
    "  ds = []\n",
    "  paras = brown.paras()\n",
    "  wordnet_lemmatizer = WordNetLemmatizer()\n",
    "  for doc in paras:\n",
    "    d = []\n",
    "    for sent in doc:\n",
    "      for word in sent:\n",
    "        w = wordnet_lemmatizer.lemmatize(word.lower())\n",
    "        d.append(w)\n",
    "    ds.append(set(d))\n",
    "  return ds\n",
    "\n",
    "def doc_frequency(w, docs):\n",
    "  df = 0\n",
    "  for p in docs:\n",
    "    if w in p:\n",
    "      df += 1\n",
    "  return df\n",
    "\n",
    "def first_filter(dictionary, remove_degree):\n",
    "  docs = doc_setup(dictionary)\n",
    "  for (k1,k2) in list(dictionary):\n",
    "    if doc_frequency(k1,docs) < remove_degree or doc_frequency(k2,docs) < remove_degree:\n",
    "      del dictionary[(k1,k2)]\n",
    "  print(\"testset length after 1st filter:\")\n",
    "  print(len(dictionary))\n",
    "  return dictionary, docs\n",
    "\n",
    "def second_max(a):\n",
    "  hi = mid = 0\n",
    "  for x in a:\n",
    "    if x > hi:\n",
    "      mid = hi\n",
    "      hi = x\n",
    "    elif x < hi and x > mid:\n",
    "      lo = mid\n",
    "      mid = x\n",
    "  return mid\n",
    "\n",
    "def primary_filter(word, filter_degree):\n",
    "  synsets = wn.synsets(word)\n",
    "  # only one synset\n",
    "  if len(synsets) == 1:\n",
    "    if synsets[0].pos() != 'n':\n",
    "      return None\n",
    "    else:\n",
    "      return synsets[0].name()\n",
    "  #more than one synset\n",
    "  elif len(synsets) > 1:\n",
    "    return lemma_filter(word, filter_degree)\n",
    "\n",
    "def lemma_filter(word, filter_degree):\n",
    "  synsets = wn.synsets(word)\n",
    "  count = {}\n",
    "  for index,s in enumerate(synsets):\n",
    "    #record compare most common n next most common\n",
    "    c = 0\n",
    "    for lemma in s.lemmas():\n",
    "      lemma_name = lemma.name()\n",
    "      if lemma_name == word:\n",
    "        c = lemma.count()\n",
    "        count[c] = index\n",
    "    secmax = second_max(list(count))\n",
    "    c = max(list(count))\n",
    "    \n",
    "    if synsets[count.get(c)].pos() == 'n':\n",
    "      #at least five or five times bigger\n",
    "      if c >= filter_degree and c >= filter_degree * secmax:\n",
    "        return synsets[count.get(c)].name()\n",
    "      else:\n",
    "        return None\n",
    "    else:\n",
    "      return None\n",
    "\n",
    "def second_filter(dictionary, filter_degree, add_synset):\n",
    "  for (k1,k2) in list(dictionary):\n",
    "    f1 = primary_filter(k1,filter_degree)\n",
    "    f2 = primary_filter(k2,filter_degree)\n",
    "    if f1 and f2:\n",
    "      synsets = [f1,f2]\n",
    "      if add_synset is True:\n",
    "        dictionary[(k1,k2)] = synsets\n",
    "    else:\n",
    "      del dictionary[(k1,k2)]\n",
    "  if add_synset is True:\n",
    "    print(\"second processed dataset length:\")\n",
    "    print(len(dictionary))\n",
    "    print(dictionary)\n",
    "  return dictionary\n",
    "\n",
    "testset_dic = con_dic(dataset_path)\n",
    "testset_dic, docs = first_filter(testset_dic, 10)\n",
    "testset_dic = second_filter(testset_dic, 5, True)"
   ]
  },
  {
   "cell_type": "markdown",
   "metadata": {
    "colab_type": "text",
    "id": "TYFiaA7NFk1f"
   },
   "source": [
    "**Wu-Palmer:** Create several dictionaries with similarity scores for pairs of words in the test set derived. Use [Wu-Palmer](https://blog.thedigitalgroup.com/words-similarityrelatedness-using-wupalmer-algorithm) scores derived from the hypernym relationships in WordNet, which should be calculated using the primary sense for each word derived above. Print out the dictionary of word pair/similarity mappings.\n"
   ]
  },
  {
   "cell_type": "code",
   "execution_count": 9,
   "metadata": {
    "colab": {
     "base_uri": "https://localhost:8080/",
     "height": 72
    },
    "colab_type": "code",
    "executionInfo": {
     "elapsed": 20491,
     "status": "ok",
     "timestamp": 1562896249206,
     "user": {
      "displayName": "Anni Alejandra Piragauta Urrea",
      "photoUrl": "https://lh5.googleusercontent.com/-iEUBFNaFH-0/AAAAAAAAAAI/AAAAAAAAAAo/JGyG98Ab3Hs/s64/photo.jpg",
      "userId": "07208906637070303459"
     },
     "user_tz": 300
    },
    "id": "ZZNlrTXkGYIt",
    "outputId": "5604452d-5eed-4691-de05-fbdcefd58a12"
   },
   "outputs": [
    {
     "name": "stdout",
     "output_type": "stream",
     "text": [
      "{('love', 'sex'): 0.15384615384615385, ('book', 'paper'): 0.25, ('plane', 'car'): 0.6666666666666666, ('train', 'car'): 0.6666666666666666, ('telephone', 'communication'): 0.13333333333333333, ('television', 'radio'): 0.9, ('professor', 'doctor'): 0.5, ('student', 'professor'): 0.5714285714285714, ('company', 'stock'): 0.2857142857142857, ('stock', 'market'): 0.2857142857142857, ('stock', 'phone'): 0.125, ('stock', 'egg'): 0.11764705882352941, ('stock', 'life'): 0.3076923076923077, ('bank', 'money'): 0.15384615384615385, ('wood', 'forest'): 0.2857142857142857, ('money', 'cash'): 0.8, ('king', 'queen'): 0.5714285714285714, ('law', 'lawyer'): 0.16666666666666666, ('movie', 'star'): 0.5333333333333333, ('movie', 'critic'): 0.4444444444444444, ('movie', 'theater'): 0.625, ('space', 'chemistry'): 0.2857142857142857, ('drink', 'car'): 0.1111111111111111, ('drink', 'ear'): 0.13333333333333333, ('drink', 'mouth'): 0.11764705882352941, ('baby', 'mother'): 0.5, ('drink', 'mother'): 0.11764705882352941, ('car', 'automobile'): 1.0, ('journey', 'voyage'): 0.8571428571428571, ('coast', 'shore'): 0.9090909090909091, ('food', 'fruit'): 0.2857142857142857, ('brother', 'monk'): 0.5714285714285714, ('journey', 'car'): 0.09523809523809523, ('coast', 'hill'): 0.6666666666666666, ('monk', 'slave'): 0.6666666666666666, ('coast', 'forest'): 0.16666666666666666, ('noon', 'string'): 0.1111111111111111, ('money', 'dollar'): 0.42857142857142855, ('money', 'wealth'): 0.2857142857142857, ('money', 'property'): 0.3333333333333333, ('money', 'possession'): 0.26666666666666666, ('money', 'bank'): 0.15384615384615385, ('money', 'operation'): 0.3076923076923077, ('psychology', 'anxiety'): 0.25, ('psychology', 'fear'): 0.25, ('psychology', 'doctor'): 0.1111111111111111, ('psychology', 'mind'): 0.5714285714285714, ('psychology', 'health'): 0.21052631578947367, ('psychology', 'science'): 0.9411764705882353, ('planet', 'star'): 0.8571428571428571, ('planet', 'sun'): 0.8, ('planet', 'space'): 0.18181818181818182, ('cup', 'coffee'): 0.26666666666666666, ('cup', 'article'): 0.625, ('cup', 'object'): 0.5454545454545454, ('cup', 'entity'): 0.2222222222222222, ('cup', 'drink'): 0.13333333333333333, ('cup', 'food'): 0.3076923076923077, ('cup', 'substance'): 0.3333333333333333, ('cup', 'liquid'): 0.2857142857142857, ('energy', 'secretary'): 0.2857142857142857, ('secretary', 'senate'): 0.13333333333333333, ('energy', 'laboratory'): 0.26666666666666666, ('computer', 'laboratory'): 0.35294117647058826, ('weapon', 'secret'): 0.13333333333333333, ('investigation', 'effort'): 0.35294117647058826, ('news', 'report'): 0.46153846153846156, ('canyon', 'landscape'): 0.3333333333333333, ('image', 'surface'): 0.15384615384615385, ('discovery', 'space'): 0.4, ('computer', 'news'): 0.13333333333333333, ('territory', 'surface'): 0.5, ('atmosphere', 'landscape'): 0.125, ('president', 'medal'): 0.11764705882352941, ('record', 'number'): 0.3076923076923077, ('skin', 'eye'): 0.5882352941176471, ('theater', 'history'): 0.14285714285714285, ('century', 'year'): 0.8333333333333334, ('century', 'nation'): 0.2857142857142857, ('minister', 'party'): 0.14285714285714285, ('peace', 'plan'): 0.3076923076923077, ('attempt', 'peace'): 0.3076923076923077, ('government', 'crisis'): 0.26666666666666666, ('energy', 'crisis'): 0.13333333333333333, ('victim', 'emergency'): 0.14285714285714285, ('doctor', 'personnel'): 0.13333333333333333, ('school', 'center'): 0.13333333333333333, ('hundred', 'percent'): 0.25, ('death', 'row'): 0.2857142857142857, ('lawyer', 'evidence'): 0.15384615384615385, ('life', 'death'): 0.3076923076923077, ('life', 'term'): 0.3076923076923077, ('word', 'similarity'): 0.3333333333333333, ('board', 'recommendation'): 0.25, ('governor', 'interview'): 0.11764705882352941, ('peace', 'atmosphere'): 0.6666666666666666, ('peace', 'insurance'): 0.3076923076923077, ('travel', 'activity'): 0.6666666666666666, ('competition', 'price'): 0.3333333333333333, ('consumer', 'confidence'): 0.13333333333333333, ('consumer', 'energy'): 0.3076923076923077, ('problem', 'airport'): 0.13333333333333333, ('car', 'flight'): 0.11764705882352941, ('credit', 'card'): 0.2857142857142857, ('credit', 'information'): 0.7272727272727273, ('hotel', 'reservation'): 0.375, ('registration', 'arrangement'): 0.3333333333333333, ('month', 'hotel'): 0.14285714285714285, ('type', 'kind'): 0.9473684210526315, ('situation', 'conclusion'): 0.2857142857142857, ('direction', 'combination'): 0.16666666666666666, ('street', 'place'): 0.4, ('street', 'block'): 0.6666666666666666, ('cell', 'phone'): 0.375, ('dividend', 'payment'): 0.42105263157894735, ('dividend', 'calculation'): 0.21052631578947367, ('oil', 'stock'): 0.3157894736842105, ('profit', 'warning'): 0.2222222222222222, ('profit', 'loss'): 0.5, ('dollar', 'profit'): 0.23529411764705882, ('dollar', 'loss'): 0.3076923076923077, ('phone', 'equipment'): 0.875, ('equipment', 'maker'): 0.5, ('luxury', 'car'): 0.1111111111111111, ('report', 'gain'): 0.3333333333333333, ('liquid', 'water'): 0.47058823529411764, ('baseball', 'season'): 0.2222222222222222, ('game', 'victory'): 0.5714285714285714, ('game', 'team'): 0.2857142857142857, ('game', 'series'): 0.3076923076923077, ('game', 'defeat'): 0.5714285714285714, ('food', 'preparation'): 0.16666666666666666, ('start', 'year'): 0.3076923076923077, ('game', 'round'): 0.125, ('line', 'insurance'): 0.3076923076923077, ('day', 'summer'): 0.5, ('summer', 'nature'): 0.3333333333333333, ('day', 'dawn'): 0.26666666666666666, ('nature', 'environment'): 0.5454545454545454, ('nature', 'man'): 0.18181818181818182, ('man', 'woman'): 0.6666666666666666, ('man', 'governor'): 0.631578947368421, ('soap', 'opera'): 0.2222222222222222, ('opera', 'performance'): 0.2857142857142857, ('life', 'lesson'): 0.23529411764705882, ('focus', 'life'): 0.26666666666666666, ('production', 'crew'): 0.3076923076923077, ('television', 'film'): 0.5555555555555556, ('possibility', 'girl'): 0.13333333333333333, ('population', 'development'): 0.26666666666666666, ('morality', 'importance'): 0.6666666666666666, ('morality', 'marriage'): 0.46153846153846156, ('change', 'attitude'): 0.5454545454545454, ('family', 'planning'): 0.26666666666666666, ('opera', 'industry'): 0.26666666666666666, ('sugar', 'approach'): 0.1, ('practice', 'institution'): 0.3076923076923077, ('problem', 'challenge'): 0.6153846153846154, ('country', 'citizen'): 0.14285714285714285, ('planet', 'people'): 0.18181818181818182, ('development', 'issue'): 0.375, ('experience', 'music'): 0.3333333333333333, ('music', 'project'): 0.3076923076923077, ('glass', 'metal'): 0.5454545454545454, ('aluminum', 'metal'): 0.9333333333333333, ('museum', 'theater'): 0.625, ('space', 'world'): 0.2, ('shower', 'flood'): 0.26666666666666666, ('disaster', 'area'): 0.13333333333333333, ('governor', 'office'): 0.42105263157894735}\n",
      "170\n"
     ]
    }
   ],
   "source": [
    "def WP_scores(dictionary):\n",
    "  similarity_dict = {}\n",
    "  for (k1,k2) in list(dictionary):\n",
    "    synsets = dictionary.get((k1,k2))\n",
    "    w1 = wn.synset(synsets[0])\n",
    "    w2 = wn.synset(synsets[1])\n",
    "    score=w1.wup_similarity(w2)\n",
    "    similarity_dict[(k1,k2)] = score\n",
    "  print(similarity_dict)\n",
    "  return similarity_dict\n",
    "\n",
    "WP_sim = WP_scores(testset_dic)\n",
    "print(len(testset_dic))"
   ]
  },
  {
   "cell_type": "markdown",
   "metadata": {
    "colab_type": "text",
    "id": "LqBBuEuMGy4b"
   },
   "source": [
    "**Positive Point Mutual Information (PPMI):** Calculate PPMI for the word pairs using statistics derived from the Brown corpus: use the same set up as for the calculation of document frequency above: paragraphs as documents, lemmatized, lower-cased, and with term frequency information removed by conversion to Python sets. Avoid building the entire co-occurrence matrix, instead keep track of the sums needed for the probabilities as going. When PMI is calculated for all the pairs, the code should print out the Python dictionary of word pair/PPMI similarity mappings."
   ]
  },
  {
   "cell_type": "code",
   "execution_count": 10,
   "metadata": {
    "colab": {
     "base_uri": "https://localhost:8080/",
     "height": 54
    },
    "colab_type": "code",
    "executionInfo": {
     "elapsed": 43019,
     "status": "ok",
     "timestamp": 1562896271749,
     "user": {
      "displayName": "Anni Alejandra Piragauta Urrea",
      "photoUrl": "https://lh5.googleusercontent.com/-iEUBFNaFH-0/AAAAAAAAAAI/AAAAAAAAAAo/JGyG98Ab3Hs/s64/photo.jpg",
      "userId": "07208906637070303459"
     },
     "user_tz": 300
    },
    "id": "d8MjVla0HvzD",
    "outputId": "672f0869-72d0-4da4-9149-1e3a98dabd2b"
   },
   "outputs": [
    {
     "name": "stdout",
     "output_type": "stream",
     "text": [
      "{('love', 'sex'): 8.862922825573236, ('book', 'paper'): 5.799640491305726, ('plane', 'car'): 6.309537176926011, ('train', 'car'): 6.586646767971528, ('telephone', 'communication'): 7.102252096124072, ('television', 'radio'): 10.76403019389606, ('professor', 'doctor'): 0.0, ('student', 'professor'): 8.860628584367422, ('company', 'stock'): 8.24001377412734, ('stock', 'market'): 9.861502150873608, ('stock', 'phone'): 0.0, ('stock', 'egg'): 7.432658852069735, ('stock', 'life'): 5.771864938388933, ('bank', 'money'): 6.829669820305262, ('wood', 'forest'): 8.430064659343962, ('money', 'cash'): 8.142827705564892, ('king', 'queen'): 8.286183955560265, ('law', 'lawyer'): 8.695368728593671, ('movie', 'star'): 9.3583337413161, ('movie', 'critic'): 0.0, ('movie', 'theater'): 10.862376246653689, ('space', 'chemistry'): 0.0, ('drink', 'car'): 6.426182095778281, ('drink', 'ear'): 0.0, ('drink', 'mouth'): 0.0, ('baby', 'mother'): 8.722036679055751, ('drink', 'mother'): 6.410915339124971, ('car', 'automobile'): 8.900113284110693, ('journey', 'voyage'): 0.0, ('coast', 'shore'): 10.245932998315858, ('food', 'fruit'): 9.009529940437343, ('brother', 'monk'): 8.514452943233382, ('journey', 'car'): 0.0, ('coast', 'hill'): 6.828245920623065, ('monk', 'slave'): 0.0, ('coast', 'forest'): 8.665692907837105, ('noon', 'string'): 0.0, ('money', 'dollar'): 8.831741170324955, ('money', 'wealth'): 8.93929431147976, ('money', 'property'): 7.638785200227303, ('money', 'possession'): 6.648063013815314, ('money', 'bank'): 6.829669820305262, ('money', 'operation'): 5.201379887920004, ('psychology', 'anxiety'): 0.0, ('psychology', 'fear'): 0.0, ('psychology', 'doctor'): 9.177761495674279, ('psychology', 'mind'): 8.394859617341213, ('psychology', 'health'): 0.0, ('psychology', 'science'): 10.693682351965784, ('planet', 'star'): 9.80579271828732, ('planet', 'sun'): 10.16994904856398, ('planet', 'space'): 8.248844593735761, ('cup', 'coffee'): 12.465185712121741, ('cup', 'article'): 0.0, ('cup', 'object'): 0.0, ('cup', 'entity'): 0.0, ('cup', 'drink'): 9.042171492120062, ('cup', 'food'): 0.0, ('cup', 'substance'): 0.0, ('cup', 'liquid'): 8.66951259511177, ('energy', 'secretary'): 6.902830880324085, ('secretary', 'senate'): 9.611782098320695, ('energy', 'laboratory'): 9.368646115752238, ('computer', 'laboratory'): 0.0, ('weapon', 'secret'): 8.249702064810567, ('investigation', 'effort'): 5.613344700218869, ('news', 'report'): 8.031551990722168, ('canyon', 'landscape'): 0.0, ('image', 'surface'): 8.400153917010726, ('discovery', 'space'): 8.205775871843874, ('computer', 'news'): 0.0, ('territory', 'surface'): 7.055770971295669, ('atmosphere', 'landscape'): 0.0, ('president', 'medal'): 0.0, ('record', 'number'): 6.256005806895239, ('skin', 'eye'): 8.760821242415197, ('theater', 'history'): 0.0, ('century', 'year'): 6.470397157835755, ('century', 'nation'): 8.275887891701572, ('minister', 'party'): 7.802433706197406, ('peace', 'plan'): 6.141235619649165, ('attempt', 'peace'): 6.228698460899503, ('government', 'crisis'): 8.160887677109883, ('energy', 'crisis'): 8.440795901508073, ('victim', 'emergency'): 0.0, ('doctor', 'personnel'): 7.833807094456917, ('school', 'center'): 6.359230800285396, ('hundred', 'percent'): 6.628785618712377, ('death', 'row'): 6.357409233087801, ('lawyer', 'evidence'): 7.135941319979652, ('life', 'death'): 7.929276076197274, ('life', 'term'): 6.6244129371750695, ('word', 'similarity'): 0.0, ('board', 'recommendation'): 9.651647351164353, ('governor', 'interview'): 0.0, ('peace', 'atmosphere'): 0.0, ('peace', 'insurance'): 0.0, ('travel', 'activity'): 8.473810958736037, ('competition', 'price'): 9.795739053623398, ('consumer', 'confidence'): 0.0, ('consumer', 'energy'): 8.011952602704199, ('problem', 'airport'): 6.303885957293724, ('car', 'flight'): 0.0, ('credit', 'card'): 8.396441346521568, ('credit', 'information'): 7.2153757874740565, ('hotel', 'reservation'): 8.506232436428414, ('registration', 'arrangement'): 0.0, ('month', 'hotel'): 5.977452771100381, ('type', 'kind'): 6.265260462553219, ('situation', 'conclusion'): 7.86609707336838, ('direction', 'combination'): 0.0, ('street', 'place'): 6.768419433330202, ('street', 'block'): 8.99480492403251, ('cell', 'phone'): 0.0, ('dividend', 'payment'): 10.237743600502512, ('dividend', 'calculation'): 0.0, ('oil', 'stock'): 7.102510250377403, ('profit', 'warning'): 8.658842852568556, ('profit', 'loss'): 10.355166462237417, ('dollar', 'profit'): 7.444718047215709, ('dollar', 'loss'): 5.937758058495826, ('phone', 'equipment'): 0.0, ('equipment', 'maker'): 9.898498628048598, ('luxury', 'car'): 7.887513247331061, ('report', 'gain'): 7.184668704477926, ('liquid', 'water'): 8.915916326401444, ('baseball', 'season'): 9.115737749256471, ('game', 'victory'): 9.476485093034361, ('game', 'team'): 9.659076506312834, ('game', 'series'): 7.80251758625446, ('game', 'defeat'): 0.0, ('food', 'preparation'): 6.473477040197133, ('start', 'year'): 5.599680174780722, ('game', 'round'): 7.993402206332418, ('line', 'insurance'): 0.0, ('day', 'summer'): 6.719902296855735, ('summer', 'nature'): 5.91502178804208, ('day', 'dawn'): 7.659222559121845, ('nature', 'environment'): 8.337927530654262, ('nature', 'man'): 7.464606467739445, ('man', 'woman'): 7.140364507013838, ('man', 'governor'): 6.2964837089311185, ('soap', 'opera'): 9.836381038120743, ('opera', 'performance'): 10.18430434154105, ('life', 'lesson'): 7.071250464625206, ('focus', 'life'): 6.47514740629885, ('production', 'crew'): 0.0, ('television', 'film'): 9.228698460899503, ('possibility', 'girl'): 5.420216873387616, ('population', 'development'): 6.897467987513379, ('morality', 'importance'): 0.0, ('morality', 'marriage'): 9.137527570871603, ('change', 'attitude'): 7.558138770173968, ('family', 'planning'): 7.702981912703545, ('opera', 'industry'): 0.0, ('sugar', 'approach'): 0.0, ('practice', 'institution'): 6.66874784818642, ('problem', 'challenge'): 6.925374334039994, ('country', 'citizen'): 7.313483000640054, ('planet', 'people'): 6.024433004762661, ('development', 'issue'): 6.54693297304902, ('experience', 'music'): 6.396314744350377, ('music', 'project'): 6.025105746691796, ('glass', 'metal'): 9.27148031173256, ('aluminum', 'metal'): 10.810845946013607, ('museum', 'theater'): 9.599341840819895, ('space', 'world'): 6.960083362783599, ('shower', 'flood'): 0.0, ('disaster', 'area'): 5.885512745451623, ('governor', 'office'): 7.8249762748484954}\n"
     ]
    }
   ],
   "source": [
    "import math\n",
    "def PPMI(word1, word2, documents):\n",
    "  w1_count = 0\n",
    "  w2_count = 0\n",
    "  total_count = 0\n",
    "  both_count = 0\n",
    "  for doc in documents:\n",
    "    for i in doc:\n",
    "      total_count += 1\n",
    "      if i == word1:\n",
    "        w1_count += 1\n",
    "        for w in doc:\n",
    "          if w == word2:\n",
    "            both_count += 1\n",
    "      elif i == word2:\n",
    "        w2_count += 1\n",
    "  base = (both_count/total_count)/((w1_count/total_count)*(w2_count/total_count))\n",
    "  if base > 0:\n",
    "    PMI = math.log((both_count/total_count)/((w1_count/total_count)*(w2_count/total_count)), 2)\n",
    "    return PMI\n",
    "  else:\n",
    "    return float(0)\n",
    "  \n",
    "def dic_PPMI(dictionary, docs):\n",
    "  pmi_dic = {}\n",
    "  for (k1,k2) in list(dictionary):\n",
    "    pmi = PPMI(k1,k2,docs)\n",
    "    pmi_dic[(k1,k2)] = pmi\n",
    "  print(pmi_dic)\n",
    "  return pmi_dic\n",
    "\n",
    "PPMI_sim = dic_PPMI(testset_dic, docs)"
   ]
  },
  {
   "cell_type": "markdown",
   "metadata": {
    "colab_type": "text",
    "id": "397dOHm8IWyj"
   },
   "source": [
    "**[Latent Semantic Analysis (LSA)](https://en.wikipedia.org/wiki/Latent_semantic_analysis):** Derive similarity scores using LSA, applying [Singular Value Decomposition (SVD)](https://en.wikipedia.org/wiki/Singular_value_decomposition) and truncate to get a dense vector and then use cosine similarity between the two vectors for each word pair. As result we'll have a matrix where rows (non-sparse) correspond to words in vocabulary, and the columns (sparse) correspond to the texts where they appear. Using the Brown corpus, in the same format as with PPMI and document frequency. After having a matrix in the correct format, use truncated SVD in the Sci-Kit lear pack to produce dense vectors of length 500, and then use the cosine similarity to produce similarities for the word pairs and print the resulting dictionary."
   ]
  },
  {
   "cell_type": "code",
   "execution_count": 11,
   "metadata": {
    "colab": {
     "base_uri": "https://localhost:8080/",
     "height": 54
    },
    "colab_type": "code",
    "executionInfo": {
     "elapsed": 67920,
     "status": "ok",
     "timestamp": 1562896296662,
     "user": {
      "displayName": "Anni Alejandra Piragauta Urrea",
      "photoUrl": "https://lh5.googleusercontent.com/-iEUBFNaFH-0/AAAAAAAAAAI/AAAAAAAAAAo/JGyG98Ab3Hs/s64/photo.jpg",
      "userId": "07208906637070303459"
     },
     "user_tz": 300
    },
    "id": "AR1eS1JxJ1Nh",
    "outputId": "4a64fe13-b233-40c5-e09f-50e809497771"
   },
   "outputs": [
    {
     "name": "stdout",
     "output_type": "stream",
     "text": [
      "{('love', 'sex'): 0.23916318340721188, ('book', 'paper'): 0.007155261187228534, ('plane', 'car'): 0.03889078134624202, ('train', 'car'): 0.06477195407744252, ('telephone', 'communication'): 0.09820051439034572, ('television', 'radio'): 0.3801268425305966, ('professor', 'doctor'): 0.0554926566432381, ('student', 'professor'): 0.3242335759518423, ('company', 'stock'): 0.19036449970101954, ('stock', 'market'): 0.5640723223985549, ('stock', 'phone'): -0.005881889446795796, ('stock', 'egg'): 0.12707158922869688, ('stock', 'life'): 0.03781108885508777, ('bank', 'money'): 0.10458645039054681, ('wood', 'forest'): 0.11058489346399558, ('money', 'cash'): 0.1541025192333817, ('king', 'queen'): 0.10797995256505277, ('law', 'lawyer'): 0.2693042931039371, ('movie', 'star'): 0.08671422267351314, ('movie', 'critic'): 0.08493546858943946, ('movie', 'theater'): 0.39990426397103673, ('space', 'chemistry'): 0.015660183841004982, ('drink', 'car'): 0.10477460484683532, ('drink', 'ear'): 0.07593627808215442, ('drink', 'mouth'): 0.12754097625407856, ('baby', 'mother'): 0.2976485584960932, ('drink', 'mother'): 0.04879742476306537, ('car', 'automobile'): 0.3538532054317388, ('journey', 'voyage'): 0.10743913811087835, ('coast', 'shore'): 0.3848500137511688, ('food', 'fruit'): 0.2816086489170442, ('brother', 'monk'): 0.10739157488023321, ('journey', 'car'): -0.013493802248421671, ('coast', 'hill'): 0.214136325586888, ('monk', 'slave'): -0.05644004376931755, ('coast', 'forest'): 0.10559483886191878, ('noon', 'string'): 0.05254679483467728, ('money', 'dollar'): 0.2756302805936024, ('money', 'wealth'): 0.20056949162649995, ('money', 'property'): 0.13223621154794163, ('money', 'possession'): 0.026492052381572928, ('money', 'bank'): 0.10458645039054681, ('money', 'operation'): -0.024087514156569068, ('psychology', 'anxiety'): 0.05320031626523747, ('psychology', 'fear'): 0.13772728158488623, ('psychology', 'doctor'): 0.13886139337147363, ('psychology', 'mind'): 0.12105308575865836, ('psychology', 'health'): 0.041633867804384384, ('psychology', 'science'): 0.30963831325365043, ('planet', 'star'): 0.20305350769136998, ('planet', 'sun'): 0.24858334566014895, ('planet', 'space'): 0.07143382937891007, ('cup', 'coffee'): 0.6149225070813457, ('cup', 'article'): 0.04665994999910339, ('cup', 'object'): -0.04479011393122878, ('cup', 'entity'): -0.02442929353612633, ('cup', 'drink'): 0.21269350991634783, ('cup', 'food'): 0.10402879565357948, ('cup', 'substance'): 0.05252334686620008, ('cup', 'liquid'): 0.14295724127561193, ('energy', 'secretary'): 0.004759047216148615, ('secretary', 'senate'): 0.38979565796959403, ('energy', 'laboratory'): 0.29288447644380056, ('computer', 'laboratory'): 0.12156388932973472, ('weapon', 'secret'): 0.20256573677531864, ('investigation', 'effort'): 0.04983417880731078, ('news', 'report'): 0.16873633040599945, ('canyon', 'landscape'): 0.12161234026988077, ('image', 'surface'): 0.16488732493375646, ('discovery', 'space'): 0.12749604027462424, ('computer', 'news'): 0.026641793526418267, ('territory', 'surface'): 0.03139890126077349, ('atmosphere', 'landscape'): 0.05686311476977335, ('president', 'medal'): -0.00580097016694725, ('record', 'number'): 0.04254499292234459, ('skin', 'eye'): 0.2812211568293389, ('theater', 'history'): 0.011529748838953746, ('century', 'year'): 0.07194622257825656, ('century', 'nation'): 0.16855577609729644, ('minister', 'party'): 0.12997867740550373, ('peace', 'plan'): 0.015442816986180108, ('attempt', 'peace'): 0.042706574033728906, ('government', 'crisis'): 0.1712348337211116, ('energy', 'crisis'): 0.08922676669438889, ('victim', 'emergency'): 0.005692183396166395, ('doctor', 'personnel'): 0.09383128222177406, ('school', 'center'): 0.041393261220893374, ('hundred', 'percent'): 0.04584180773187019, ('death', 'row'): 0.07444509254901754, ('lawyer', 'evidence'): 0.06132631385706255, ('life', 'death'): 0.16147190215027363, ('life', 'term'): 0.05717433467864386, ('word', 'similarity'): 0.0002280724035196302, ('board', 'recommendation'): 0.3516188482499436, ('governor', 'interview'): -0.028312753833159565, ('peace', 'atmosphere'): 0.04875224527703548, ('peace', 'insurance'): -0.02013320465297519, ('travel', 'activity'): 0.1495988789834528, ('competition', 'price'): 0.4543243623765286, ('consumer', 'confidence'): 0.014210184969931094, ('consumer', 'energy'): 0.1032890660654554, ('problem', 'airport'): 0.03833140972447824, ('car', 'flight'): -0.027080182148882415, ('credit', 'card'): 0.10015810085519261, ('credit', 'information'): 0.09406987316646442, ('hotel', 'reservation'): 0.11606523180599071, ('registration', 'arrangement'): 0.08888863792720203, ('month', 'hotel'): 0.032037581546299654, ('type', 'kind'): 0.02836362912262813, ('situation', 'conclusion'): 0.12733826696508688, ('direction', 'combination'): 0.029501502338152408, ('street', 'place'): 0.06106386285071985, ('street', 'block'): 0.3700496149558059, ('cell', 'phone'): -0.030202663104170746, ('dividend', 'payment'): 0.11438137413296046, ('dividend', 'calculation'): 0.022459258734492282, ('oil', 'stock'): 0.1559703190523115, ('profit', 'warning'): 0.07525518509636542, ('profit', 'loss'): 0.2556503701912941, ('dollar', 'profit'): 0.20629370928394175, ('dollar', 'loss'): 0.08343928474259277, ('phone', 'equipment'): -0.010216626738569046, ('equipment', 'maker'): 0.2651254369618298, ('luxury', 'car'): 0.10286628650478868, ('report', 'gain'): 0.06934403360266661, ('liquid', 'water'): 0.23490872206585023, ('baseball', 'season'): 0.4466144325408786, ('game', 'victory'): 0.3529609699561962, ('game', 'team'): 0.6459568118566453, ('game', 'series'): 0.18143186040465253, ('game', 'defeat'): 0.02316076495540631, ('food', 'preparation'): 0.014092832177748038, ('start', 'year'): 0.050329347520051804, ('game', 'round'): 0.20499436329612752, ('line', 'insurance'): -0.004429394819043919, ('day', 'summer'): 0.08509401890601631, ('summer', 'nature'): 0.04428352870416219, ('day', 'dawn'): 0.1408255351956661, ('nature', 'environment'): 0.15229365397078398, ('nature', 'man'): 0.13779699218725472, ('man', 'woman'): 0.11140321843690015, ('man', 'governor'): 0.0726027685565146, ('soap', 'opera'): 0.04198236535671629, ('opera', 'performance'): 0.4726925092898584, ('life', 'lesson'): 0.08463496529382464, ('focus', 'life'): 0.059988738784710005, ('production', 'crew'): 0.029009442451879308, ('television', 'film'): 0.19419873962260037, ('possibility', 'girl'): 0.03427418760087664, ('population', 'development'): 0.04727911274203367, ('morality', 'importance'): 0.05937170872984099, ('morality', 'marriage'): 0.08527017819638827, ('change', 'attitude'): 0.11550089683942699, ('family', 'planning'): 0.12418922798602972, ('opera', 'industry'): 0.014619181036869322, ('sugar', 'approach'): -0.018791979237670287, ('practice', 'institution'): 0.10232378738431391, ('problem', 'challenge'): 0.1006806224747302, ('country', 'citizen'): 0.08968172852437128, ('planet', 'people'): 0.02971088183876014, ('development', 'issue'): 0.026883953234821067, ('experience', 'music'): 0.015770626809367583, ('music', 'project'): 0.03826977453549363, ('glass', 'metal'): 0.24191650485628546, ('aluminum', 'metal'): 0.261637556029942, ('museum', 'theater'): 0.24471997425456526, ('space', 'world'): 0.08819440572028558, ('shower', 'flood'): 0.0638074379601935, ('disaster', 'area'): 0.00554959964237467, ('governor', 'office'): 0.14904114497268428}\n"
     ]
    }
   ],
   "source": [
    "from sklearn.feature_extraction import DictVectorizer\n",
    "from sklearn.feature_extraction.text import TfidfTransformer\n",
    "from sklearn.decomposition import TruncatedSVD\n",
    "from scipy.spatial.distance import cosine as cos_distance\n",
    "\n",
    "def get_BOW(text):\n",
    "  BOW = {}\n",
    "  for word in text:\n",
    "    BOW[word.lower()] = BOW.get(word.lower(),0) + 1\n",
    "  return BOW\n",
    "\n",
    "def cons_feature_matrix(docs):\n",
    "  texts = []\n",
    "  for doc in docs:\n",
    "    texts.append(get_BOW(doc))\n",
    "  vectorizer = DictVectorizer()\n",
    "  #Tfidf is optional\n",
    "  transformer = TfidfTransformer(smooth_idf=False,norm=None)\n",
    "  svd = TruncatedSVD(n_components=500)\n",
    "  # create truncated transposed document-word feature matrix \n",
    "  # as word-doc feature matrix\n",
    "  feature_matrix = svd.fit_transform(vectorizer.fit_transform(texts).T)\n",
    "  return feature_matrix,vectorizer\n",
    "\n",
    "def cos_sim(testset,docs,feature_matrix, vectorizer):\n",
    "  look_up = {}\n",
    "  cos_dic = {}\n",
    "  for index,w in enumerate(vectorizer.get_feature_names()):\n",
    "    look_up[w]=index\n",
    "  for (k1,k2) in list(testset):\n",
    "    v1 = look_up.get(k1)\n",
    "    v2 = look_up.get(k2)\n",
    "    cos = cos_distance(feature_matrix[v1],feature_matrix[v2])\n",
    "    # cosine_similary = 1-cosine_distance\n",
    "    cos_dic[(k1,k2)]=1-cos\n",
    "  print(cos_dic)\n",
    "  return cos_dic\n",
    "\n",
    "feature_matrix,vectorizer = cons_feature_matrix(docs)\n",
    "cos_sim = cos_sim(testset_dic,docs,feature_matrix, vectorizer)"
   ]
  },
  {
   "cell_type": "markdown",
   "metadata": {
    "colab_type": "text",
    "id": "K29K45L9KgLL"
   },
   "source": [
    "**Word2Vec:** Derive a similarity score from word2vec vectors using the Gensim pack (tutorial [here](https://radimrehurek.com/gensim/models/word2vec.html)). Again, use the Brown corpus. In this case train the model at the sentence level rather than in paragraphs. The vectors should be 500 length (same dimensions as LSA), running 50 iterations (**this is going to take several minutes**). Extract similarities directly from the Gensim model, put them into a dictionary and print them out."
   ]
  },
  {
   "cell_type": "code",
   "execution_count": 12,
   "metadata": {
    "colab": {
     "base_uri": "https://localhost:8080/",
     "height": 407
    },
    "colab_type": "code",
    "executionInfo": {
     "elapsed": 346587,
     "status": "error",
     "timestamp": 1562896575343,
     "user": {
      "displayName": "Anni Alejandra Piragauta Urrea",
      "photoUrl": "https://lh5.googleusercontent.com/-iEUBFNaFH-0/AAAAAAAAAAI/AAAAAAAAAAo/JGyG98Ab3Hs/s64/photo.jpg",
      "userId": "07208906637070303459"
     },
     "user_tz": 300
    },
    "id": "2xsgzmdmLXHi",
    "outputId": "ab653c0b-6c30-4bd6-d0b8-55abd278e25c"
   },
   "outputs": [
    {
     "name": "stderr",
     "output_type": "stream",
     "text": [
      "/usr/local/lib/python3.6/dist-packages/gensim/matutils.py:737: FutureWarning: Conversion of the second argument of issubdtype from `int` to `np.signedinteger` is deprecated. In future, it will be treated as `np.int64 == np.dtype(int).type`.\n",
      "  if np.issubdtype(vec.dtype, np.int):\n"
     ]
    },
    {
     "ename": "KeyError",
     "evalue": "ignored",
     "output_type": "error",
     "traceback": [
      "\u001b[0;31m---------------------------------------------------------------------------\u001b[0m",
      "\u001b[0;31mKeyError\u001b[0m                                  Traceback (most recent call last)",
      "\u001b[0;32m<ipython-input-12-d29e93aff9d4>\u001b[0m in \u001b[0;36m<module>\u001b[0;34m()\u001b[0m\n\u001b[1;32m     19\u001b[0m \u001b[0;34m\u001b[0m\u001b[0m\n\u001b[1;32m     20\u001b[0m \u001b[0mmodel\u001b[0m \u001b[0;34m=\u001b[0m \u001b[0mtrain_w2v\u001b[0m\u001b[0;34m(\u001b[0m\u001b[0;34m)\u001b[0m\u001b[0;34m\u001b[0m\u001b[0;34m\u001b[0m\u001b[0m\n\u001b[0;32m---> 21\u001b[0;31m \u001b[0mW2V\u001b[0m \u001b[0;34m=\u001b[0m \u001b[0mw2v_sim\u001b[0m\u001b[0;34m(\u001b[0m\u001b[0mtestset_dic\u001b[0m\u001b[0;34m,\u001b[0m \u001b[0mmodel\u001b[0m\u001b[0;34m)\u001b[0m\u001b[0;34m\u001b[0m\u001b[0;34m\u001b[0m\u001b[0m\n\u001b[0m",
      "\u001b[0;32m<ipython-input-12-d29e93aff9d4>\u001b[0m in \u001b[0;36mw2v_sim\u001b[0;34m(dataset, model)\u001b[0m\n\u001b[1;32m     13\u001b[0m   \u001b[0mw2v_sim\u001b[0m \u001b[0;34m=\u001b[0m \u001b[0;34m{\u001b[0m\u001b[0;34m}\u001b[0m\u001b[0;34m\u001b[0m\u001b[0;34m\u001b[0m\u001b[0m\n\u001b[1;32m     14\u001b[0m   \u001b[0;32mfor\u001b[0m \u001b[0;34m(\u001b[0m\u001b[0mk1\u001b[0m\u001b[0;34m,\u001b[0m\u001b[0mk2\u001b[0m\u001b[0;34m)\u001b[0m \u001b[0;32min\u001b[0m \u001b[0mlist\u001b[0m\u001b[0;34m(\u001b[0m\u001b[0mdataset\u001b[0m\u001b[0;34m)\u001b[0m\u001b[0;34m:\u001b[0m\u001b[0;34m\u001b[0m\u001b[0;34m\u001b[0m\u001b[0m\n\u001b[0;32m---> 15\u001b[0;31m     \u001b[0msim\u001b[0m \u001b[0;34m=\u001b[0m \u001b[0mw2v_sim_w\u001b[0m\u001b[0;34m(\u001b[0m\u001b[0mk1\u001b[0m\u001b[0;34m,\u001b[0m\u001b[0mk2\u001b[0m\u001b[0;34m,\u001b[0m\u001b[0mmodel\u001b[0m\u001b[0;34m)\u001b[0m\u001b[0;34m\u001b[0m\u001b[0;34m\u001b[0m\u001b[0m\n\u001b[0m\u001b[1;32m     16\u001b[0m     \u001b[0mw2v_sim\u001b[0m\u001b[0;34m[\u001b[0m\u001b[0;34m(\u001b[0m\u001b[0mk1\u001b[0m\u001b[0;34m,\u001b[0m\u001b[0mk2\u001b[0m\u001b[0;34m)\u001b[0m\u001b[0;34m]\u001b[0m \u001b[0;34m=\u001b[0m \u001b[0msim\u001b[0m\u001b[0;34m\u001b[0m\u001b[0;34m\u001b[0m\u001b[0m\n\u001b[1;32m     17\u001b[0m   \u001b[0mprint\u001b[0m\u001b[0;34m(\u001b[0m\u001b[0mw2v_sim\u001b[0m\u001b[0;34m)\u001b[0m\u001b[0;34m\u001b[0m\u001b[0;34m\u001b[0m\u001b[0m\n",
      "\u001b[0;32m<ipython-input-12-d29e93aff9d4>\u001b[0m in \u001b[0;36mw2v_sim_w\u001b[0;34m(word1, word2, model)\u001b[0m\n\u001b[1;32m      7\u001b[0m \u001b[0;34m\u001b[0m\u001b[0m\n\u001b[1;32m      8\u001b[0m \u001b[0;32mdef\u001b[0m \u001b[0mw2v_sim_w\u001b[0m\u001b[0;34m(\u001b[0m\u001b[0mword1\u001b[0m\u001b[0;34m,\u001b[0m \u001b[0mword2\u001b[0m\u001b[0;34m,\u001b[0m \u001b[0mmodel\u001b[0m\u001b[0;34m)\u001b[0m\u001b[0;34m:\u001b[0m\u001b[0;34m\u001b[0m\u001b[0;34m\u001b[0m\u001b[0m\n\u001b[0;32m----> 9\u001b[0;31m   \u001b[0msimilarity\u001b[0m \u001b[0;34m=\u001b[0m \u001b[0mmodel\u001b[0m\u001b[0;34m.\u001b[0m\u001b[0mwv\u001b[0m\u001b[0;34m.\u001b[0m\u001b[0msimilarity\u001b[0m\u001b[0;34m(\u001b[0m\u001b[0mword1\u001b[0m\u001b[0;34m,\u001b[0m \u001b[0mword2\u001b[0m\u001b[0;34m)\u001b[0m\u001b[0;34m\u001b[0m\u001b[0;34m\u001b[0m\u001b[0m\n\u001b[0m\u001b[1;32m     10\u001b[0m   \u001b[0;32mreturn\u001b[0m \u001b[0msimilarity\u001b[0m\u001b[0;34m\u001b[0m\u001b[0;34m\u001b[0m\u001b[0m\n\u001b[1;32m     11\u001b[0m \u001b[0;34m\u001b[0m\u001b[0m\n",
      "\u001b[0;32m/usr/local/lib/python3.6/dist-packages/gensim/models/keyedvectors.py\u001b[0m in \u001b[0;36msimilarity\u001b[0;34m(self, w1, w2)\u001b[0m\n\u001b[1;32m    990\u001b[0m \u001b[0;34m\u001b[0m\u001b[0m\n\u001b[1;32m    991\u001b[0m         \"\"\"\n\u001b[0;32m--> 992\u001b[0;31m         \u001b[0;32mreturn\u001b[0m \u001b[0mdot\u001b[0m\u001b[0;34m(\u001b[0m\u001b[0mmatutils\u001b[0m\u001b[0;34m.\u001b[0m\u001b[0munitvec\u001b[0m\u001b[0;34m(\u001b[0m\u001b[0mself\u001b[0m\u001b[0;34m[\u001b[0m\u001b[0mw1\u001b[0m\u001b[0;34m]\u001b[0m\u001b[0;34m)\u001b[0m\u001b[0;34m,\u001b[0m \u001b[0mmatutils\u001b[0m\u001b[0;34m.\u001b[0m\u001b[0munitvec\u001b[0m\u001b[0;34m(\u001b[0m\u001b[0mself\u001b[0m\u001b[0;34m[\u001b[0m\u001b[0mw2\u001b[0m\u001b[0;34m]\u001b[0m\u001b[0;34m)\u001b[0m\u001b[0;34m)\u001b[0m\u001b[0;34m\u001b[0m\u001b[0;34m\u001b[0m\u001b[0m\n\u001b[0m\u001b[1;32m    993\u001b[0m \u001b[0;34m\u001b[0m\u001b[0m\n\u001b[1;32m    994\u001b[0m     \u001b[0;32mdef\u001b[0m \u001b[0mn_similarity\u001b[0m\u001b[0;34m(\u001b[0m\u001b[0mself\u001b[0m\u001b[0;34m,\u001b[0m \u001b[0mws1\u001b[0m\u001b[0;34m,\u001b[0m \u001b[0mws2\u001b[0m\u001b[0;34m)\u001b[0m\u001b[0;34m:\u001b[0m\u001b[0;34m\u001b[0m\u001b[0;34m\u001b[0m\u001b[0m\n",
      "\u001b[0;32m/usr/local/lib/python3.6/dist-packages/gensim/models/keyedvectors.py\u001b[0m in \u001b[0;36m__getitem__\u001b[0;34m(self, entities)\u001b[0m\n\u001b[1;32m    335\u001b[0m         \u001b[0;32mif\u001b[0m \u001b[0misinstance\u001b[0m\u001b[0;34m(\u001b[0m\u001b[0mentities\u001b[0m\u001b[0;34m,\u001b[0m \u001b[0mstring_types\u001b[0m\u001b[0;34m)\u001b[0m\u001b[0;34m:\u001b[0m\u001b[0;34m\u001b[0m\u001b[0;34m\u001b[0m\u001b[0m\n\u001b[1;32m    336\u001b[0m             \u001b[0;31m# allow calls like trained_model['office'], as a shorthand for trained_model[['office']]\u001b[0m\u001b[0;34m\u001b[0m\u001b[0;34m\u001b[0m\u001b[0;34m\u001b[0m\u001b[0m\n\u001b[0;32m--> 337\u001b[0;31m             \u001b[0;32mreturn\u001b[0m \u001b[0mself\u001b[0m\u001b[0;34m.\u001b[0m\u001b[0mget_vector\u001b[0m\u001b[0;34m(\u001b[0m\u001b[0mentities\u001b[0m\u001b[0;34m)\u001b[0m\u001b[0;34m\u001b[0m\u001b[0;34m\u001b[0m\u001b[0m\n\u001b[0m\u001b[1;32m    338\u001b[0m \u001b[0;34m\u001b[0m\u001b[0m\n\u001b[1;32m    339\u001b[0m         \u001b[0;32mreturn\u001b[0m \u001b[0mvstack\u001b[0m\u001b[0;34m(\u001b[0m\u001b[0;34m[\u001b[0m\u001b[0mself\u001b[0m\u001b[0;34m.\u001b[0m\u001b[0mget_vector\u001b[0m\u001b[0;34m(\u001b[0m\u001b[0mentity\u001b[0m\u001b[0;34m)\u001b[0m \u001b[0;32mfor\u001b[0m \u001b[0mentity\u001b[0m \u001b[0;32min\u001b[0m \u001b[0mentities\u001b[0m\u001b[0;34m]\u001b[0m\u001b[0;34m)\u001b[0m\u001b[0;34m\u001b[0m\u001b[0;34m\u001b[0m\u001b[0m\n",
      "\u001b[0;32m/usr/local/lib/python3.6/dist-packages/gensim/models/keyedvectors.py\u001b[0m in \u001b[0;36mget_vector\u001b[0;34m(self, word)\u001b[0m\n\u001b[1;32m    453\u001b[0m \u001b[0;34m\u001b[0m\u001b[0m\n\u001b[1;32m    454\u001b[0m     \u001b[0;32mdef\u001b[0m \u001b[0mget_vector\u001b[0m\u001b[0;34m(\u001b[0m\u001b[0mself\u001b[0m\u001b[0;34m,\u001b[0m \u001b[0mword\u001b[0m\u001b[0;34m)\u001b[0m\u001b[0;34m:\u001b[0m\u001b[0;34m\u001b[0m\u001b[0;34m\u001b[0m\u001b[0m\n\u001b[0;32m--> 455\u001b[0;31m         \u001b[0;32mreturn\u001b[0m \u001b[0mself\u001b[0m\u001b[0;34m.\u001b[0m\u001b[0mword_vec\u001b[0m\u001b[0;34m(\u001b[0m\u001b[0mword\u001b[0m\u001b[0;34m)\u001b[0m\u001b[0;34m\u001b[0m\u001b[0;34m\u001b[0m\u001b[0m\n\u001b[0m\u001b[1;32m    456\u001b[0m \u001b[0;34m\u001b[0m\u001b[0m\n\u001b[1;32m    457\u001b[0m     \u001b[0;32mdef\u001b[0m \u001b[0mwords_closer_than\u001b[0m\u001b[0;34m(\u001b[0m\u001b[0mself\u001b[0m\u001b[0;34m,\u001b[0m \u001b[0mw1\u001b[0m\u001b[0;34m,\u001b[0m \u001b[0mw2\u001b[0m\u001b[0;34m)\u001b[0m\u001b[0;34m:\u001b[0m\u001b[0;34m\u001b[0m\u001b[0;34m\u001b[0m\u001b[0m\n",
      "\u001b[0;32m/usr/local/lib/python3.6/dist-packages/gensim/models/keyedvectors.py\u001b[0m in \u001b[0;36mword_vec\u001b[0;34m(self, word, use_norm)\u001b[0m\n\u001b[1;32m    450\u001b[0m             \u001b[0;32mreturn\u001b[0m \u001b[0mresult\u001b[0m\u001b[0;34m\u001b[0m\u001b[0;34m\u001b[0m\u001b[0m\n\u001b[1;32m    451\u001b[0m         \u001b[0;32melse\u001b[0m\u001b[0;34m:\u001b[0m\u001b[0;34m\u001b[0m\u001b[0;34m\u001b[0m\u001b[0m\n\u001b[0;32m--> 452\u001b[0;31m             \u001b[0;32mraise\u001b[0m \u001b[0mKeyError\u001b[0m\u001b[0;34m(\u001b[0m\u001b[0;34m\"word '%s' not in vocabulary\"\u001b[0m \u001b[0;34m%\u001b[0m \u001b[0mword\u001b[0m\u001b[0;34m)\u001b[0m\u001b[0;34m\u001b[0m\u001b[0;34m\u001b[0m\u001b[0m\n\u001b[0m\u001b[1;32m    453\u001b[0m \u001b[0;34m\u001b[0m\u001b[0m\n\u001b[1;32m    454\u001b[0m     \u001b[0;32mdef\u001b[0m \u001b[0mget_vector\u001b[0m\u001b[0;34m(\u001b[0m\u001b[0mself\u001b[0m\u001b[0;34m,\u001b[0m \u001b[0mword\u001b[0m\u001b[0;34m)\u001b[0m\u001b[0;34m:\u001b[0m\u001b[0;34m\u001b[0m\u001b[0;34m\u001b[0m\u001b[0m\n",
      "\u001b[0;31mKeyError\u001b[0m: \"word 'medal' not in vocabulary\""
     ]
    }
   ],
   "source": [
    "from gensim.models import Word2Vec\n",
    "\n",
    "def train_w2v():\n",
    "  sentences = brown.sents()\n",
    "  model = Word2Vec(sentences, size=500, iter=50)\n",
    "  return model\n",
    "\n",
    "def w2v_sim_w(word1, word2, model):\n",
    "  similarity = model.wv.similarity(word1, word2)\n",
    "  return similarity\n",
    "\n",
    "def w2v_sim(dataset, model):\n",
    "  w2v_sim = {}\n",
    "  for (k1,k2) in list(dataset):\n",
    "    sim = w2v_sim_w(k1,k2,model)\n",
    "    w2v_sim[(k1,k2)] = sim\n",
    "  print(w2v_sim)\n",
    "  return w2v_sim\n",
    "\n",
    "model = train_w2v()\n",
    "W2V = w2v_sim(testset_dic, model)"
   ]
  },
  {
   "cell_type": "markdown",
   "metadata": {
    "colab_type": "text",
    "id": "oHnza2DoL3ok"
   },
   "source": [
    "**Comparison:** Finally, compare all the similarities created to the gold standard in the first step. Use the [Pearson correlation coefficient](https://en.wikipedia.org/wiki/Pearson_correlation_coefficient) `pearsonr`, included in `scipy.stats`.  Pay attention to dictionaries conversion to lists, data must be in the same order for correct comparison via correlation. Write a general function, apply it to each of the similarity score dictionaries and print out the result for each. "
   ]
  },
  {
   "cell_type": "code",
   "execution_count": 13,
   "metadata": {
    "colab": {
     "base_uri": "https://localhost:8080/",
     "height": 176
    },
    "colab_type": "code",
    "executionInfo": {
     "elapsed": 11218,
     "status": "ok",
     "timestamp": 1562896846790,
     "user": {
      "displayName": "Anni Alejandra Piragauta Urrea",
      "photoUrl": "https://lh5.googleusercontent.com/-iEUBFNaFH-0/AAAAAAAAAAI/AAAAAAAAAAo/JGyG98Ab3Hs/s64/photo.jpg",
      "userId": "07208906637070303459"
     },
     "user_tz": 300
    },
    "id": "pyUjoX17MtKr",
    "outputId": "58594cdd-2395-486b-8cf4-6339fbd051fe"
   },
   "outputs": [
    {
     "name": "stdout",
     "output_type": "stream",
     "text": [
      "testset length after 1st filter:\n",
      "222\n",
      "wu-Palmer:\n",
      "(0.3565521640169933, 1.8207081504242935e-06)\n",
      "PPMI:\n",
      "(0.4213300206094628, 1.0555076721264572e-08)\n",
      "Cosine:\n",
      "(0.43404871670116735, 3.353662062188343e-09)\n",
      "word2vector:\n"
     ]
    }
   ],
   "source": [
    "from scipy import stats\n",
    "\n",
    "ori_testset = con_dic(dataset_path)\n",
    "ori_test, docs = first_filter(ori_testset, 10)\n",
    "testset_tem = second_filter(ori_testset,5,False)\n",
    "\n",
    "def dic2list(dic1, dic2):\n",
    "  l1 = []\n",
    "  l2 = []\n",
    "  for (k1,k2) in list(dic1):\n",
    "    l1.append(dic1.get((k1,k2)))\n",
    "    l2.append(dic2.get((k1,k2)))\n",
    "  return l1,l2\n",
    "\n",
    "\n",
    "\n",
    "olist, WPlist   = dic2list(ori_testset, WP_sim)\n",
    "olist, PPMIlist = dic2list(ori_testset,PPMI_sim)\n",
    "olist, COSlist  = dic2list(ori_testset,cos_sim)\n",
    "#olist, W2Vlist  = dic2list(ori_testset, W2V)\n",
    "print(\"wu-Palmer:\")\n",
    "print(stats.pearsonr(olist, WPlist))\n",
    "print(\"PPMI:\")\n",
    "print(stats.pearsonr(olist, PPMIlist))\n",
    "print(\"Cosine:\")\n",
    "print(stats.pearsonr(olist,COSlist))\n",
    "print(\"word2vector:\")\n",
    "#print(stats.pearsonr(olist,W2Vlist))"
   ]
  },
  {
   "cell_type": "markdown",
   "metadata": {
    "colab_type": "text",
    "id": "DvfUI2sN6UMs"
   },
   "source": [
    "**Comentarios:** Para el análisis de similitud entre palabras, se pudo evidenciar, que es posible asignar diferentes sentidos a una palabra mediante técnicas de clustering."
   ]
  }
 ],
 "metadata": {
  "colab": {
   "collapsed_sections": [],
   "name": "03_Word Similarity.ipynb",
   "provenance": [
    {
     "file_id": "1zsq_hmCmuEyHKteBUxe_qfsROSheRiRD",
     "timestamp": 1562888311029
    }
   ],
   "version": "0.3.2"
  },
  "kernelspec": {
   "display_name": "Python 3",
   "language": "python",
   "name": "python3"
  },
  "language_info": {
   "codemirror_mode": {
    "name": "ipython",
    "version": 3
   },
   "file_extension": ".py",
   "mimetype": "text/x-python",
   "name": "python",
   "nbconvert_exporter": "python",
   "pygments_lexer": "ipython3",
   "version": "3.6.8"
  }
 },
 "nbformat": 4,
 "nbformat_minor": 1
}
