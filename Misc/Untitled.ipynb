{
 "cells": [
  {
   "cell_type": "code",
   "execution_count": 11,
   "metadata": {},
   "outputs": [
    {
     "name": "stdout",
     "output_type": "stream",
     "text": [
      "[0.7886785627878784, 0.5153586560486872, 0.33524853502220936, 0.0]\n",
      "3.880792486021725\n"
     ]
    }
   ],
   "source": [
    "import math\n",
    "import pandas as pd\n",
    "import functools\n",
    "columns = 'A B C D E F G'.split()\n",
    "\n",
    "data = {j: {i: 1 for i in columns} for j in columns}\n",
    "test = {i: idx for idx, i in enumerate(columns)}\n",
    "\n",
    "prob = functools.reduce(lambda x, y: x * y, [(test[i] + 1) / len(test) for i in test])\n",
    "\n",
    "tab = pd.DataFrame(data)\n",
    "\n",
    "#print(tab)\n",
    "#print(test)\n",
    "#print(prob)\n",
    "\n",
    "documents = [\n",
    "    'hola soy muy bacano',\n",
    "    'estoy mamado',\n",
    "    'necesito descansar',\n",
    "    'hola bacano descansar',\n",
    "    'bacano bacano'\n",
    "]\n",
    "\n",
    "bacano_d = len([y for y in [[x for x in document.split(' ')] for document in documents] if 'bacano' in y])\n",
    "\n",
    "vec = [115, 10, 2, 0]\n",
    "\n",
    "for idx, item in enumerate(vec):\n",
    "    try:\n",
    "        vec[idx] = 1 + math.log10(item)\n",
    "    except ValueError:\n",
    "        ValueError\n",
    "    \n",
    "norm = math.sqrt(sum([x * x for x in vec]))\n",
    "\n",
    "vec = [x / norm for x in vec]\n",
    "\n",
    "print(vec)\n",
    "print(norm)"
   ]
  }
 ],
 "metadata": {
  "kernelspec": {
   "display_name": "Python 3",
   "language": "python",
   "name": "python3"
  },
  "language_info": {
   "codemirror_mode": {
    "name": "ipython",
    "version": 3
   },
   "file_extension": ".py",
   "mimetype": "text/x-python",
   "name": "python",
   "nbconvert_exporter": "python",
   "pygments_lexer": "ipython3",
   "version": "3.6.7"
  }
 },
 "nbformat": 4,
 "nbformat_minor": 2
}
