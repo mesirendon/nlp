{
 "cells": [
  {
   "cell_type": "markdown",
   "metadata": {},
   "source": [
    "# Taller 2\n",
    "\n",
    "Osmar Alejandro Castillo Lancheros"
   ]
  },
  {
   "cell_type": "markdown",
   "metadata": {},
   "source": [
    "**1** Realizar un programa para computar unigramas, bigramas y trigramas. Los parámetros son: corpus y N (tamaño del \"gram\") y debe generar el modelo de lenguaje basado en el conteo de los n-grams. La salida puede ser un diccionario con la siguiente estructura:"
   ]
  },
  {
   "cell_type": "code",
   "execution_count": 1,
   "metadata": {},
   "outputs": [],
   "source": [
    "def nGrams(corpus,n):\n",
    "    if(not isinstance(corpus,list)):\n",
    "        tokens = corpus.split()\n",
    "    else:\n",
    "        tokens = corpus\n",
    "    size = len(tokens)\n",
    "    gramas = list()\n",
    "    for i in range(len(tokens)-(n-1)):\n",
    "        gramas.append(tuple(tokens[i:i+n]))\n",
    "    gramasSet = set(gramas)\n",
    "    freq = dict()\n",
    "    for i in gramasSet:\n",
    "        freq[i] = gramas.count(i)\n",
    "    return freq\n",
    "\n",
    "def probabilityG(corpus,n):\n",
    "    answer = dict()\n",
    "    freqnGramas = nGrams(corpus,n)\n",
    "    freqGrams = nGrams(corpus,n-1)\n",
    "    for i in freqnGramas:\n",
    "        answer[i]=freqnGramas[i]/freqGrams[i[:n-1]]\n",
    "    return answer\n",
    "\n",
    "def merge_two_dicts(x, y):\n",
    "    keys = list(x.keys())+list(y.keys())\n",
    "    answer = dict()\n",
    "    for k in keys:\n",
    "        xt = x[k] if k in x else 0\n",
    "        yt = y[k] if k in y else 0\n",
    "        answer[k] = xt + yt\n",
    "    return answer\n",
    "\n",
    "def nGramsList(listC,n):\n",
    "    answer = dict()\n",
    "    freqnGrams = dict()\n",
    "    freqnmGrams = dict()\n",
    "    for i in listC:\n",
    "        fG = nGrams(i,n)\n",
    "        freqnGrams = merge_two_dicts(fG,freqnGrams)\n",
    "        fnG = nGrams(i,n-1)\n",
    "        freqnmGrams = merge_two_dicts(fnG,freqnmGrams) \n",
    "    for i in freqnGrams:\n",
    "        answer[i] = freqnGrams[i]/freqnmGrams[i[:n-1]]\n",
    "    return answer"
   ]
  },
  {
   "cell_type": "code",
   "execution_count": 2,
   "metadata": {},
   "outputs": [
    {
     "data": {
      "text/plain": [
       "{('c', 'd'): 1.0,\n",
       " ('b', 'c'): 0.5,\n",
       " ('e', 'h'): 1.0,\n",
       " ('b', 'j'): 0.5,\n",
       " ('h', 'a'): 1.0,\n",
       " ('d', 'e'): 1.0,\n",
       " ('a', 'b'): 1.0}"
      ]
     },
     "execution_count": 2,
     "metadata": {},
     "output_type": "execute_result"
    }
   ],
   "source": [
    "probabilityG([\"a\", \"b\", \"c\", \"d\", \"e\", \"h\", \"a\", \"b\", \"j\"],2)"
   ]
  },
  {
   "cell_type": "markdown",
   "metadata": {},
   "source": [
    "**1.1** Construir el modelo probabilístico de unigramas y bigramas para:"
   ]
  },
  {
   "cell_type": "code",
   "execution_count": 3,
   "metadata": {},
   "outputs": [
    {
     "data": {
      "text/plain": [
       "{('D', 'D'): 0.2,\n",
       " ('A', 'C'): 0.5,\n",
       " ('C', 'D'): 1.0,\n",
       " ('D', 'E'): 0.6,\n",
       " ('E', 'C'): 0.3333333333333333,\n",
       " ('B', 'C'): 1.0,\n",
       " ('A', 'B'): 0.5}"
      ]
     },
     "execution_count": 3,
     "metadata": {},
     "output_type": "execute_result"
    }
   ],
   "source": [
    "corpus = [['A', 'B', 'C', 'D', 'E'],\n",
    "\n",
    "          ['D', 'E', 'C', 'D', 'E'],\n",
    "\n",
    "          ['A', 'C', 'D', 'D']\n",
    "\n",
    "         ]\n",
    "nGramsList(corpus,2)"
   ]
  },
  {
   "cell_type": "markdown",
   "metadata": {},
   "source": [
    "**1.2.**  Construir un modelo probabilístico n-gram usando el programa, para dos documentos (pequeños) de su preferencia en el mismo idioma. "
   ]
  },
  {
   "cell_type": "code",
   "execution_count": 4,
   "metadata": {},
   "outputs": [],
   "source": [
    "# fragmento de texto tomado del articulo que se encuentra https://karisma.org.co/colombia-merece-una-reforma-integral-al-derecho-de-autor/\n",
    "texto1='''Colombia merece una reforma integral al derecho de autor\n",
    "El texto presentado por el gobierno nacional de Colombia para reformar la ley 23 de 1982 en materia de derecho de autor y derechos conexos, nos arrebata de las manos la posibilidad de actualizar, mejorar y equilibrar nuestro sistema de derecho de autor a la luz de las oportunidades y retos de la era digital y de las necesidades sociales que vienen amarradas al acceso al conocimiento y la cultura en un contexto de paz.\n",
    "\n",
    "El gobierno colombiano, en cabeza del Ministerio de Comercio, Industria y Turismo (MinComercio) y de la Dirección Nacional de Derecho de Autor (DNDA), no debe limitar esta reforma a implementar, sin reparos, las disposiciones del Tratado de Libre Comercio (TLC) que nuestro país firmó con EEUU. Por el contrario, la obligación de reformar nuestras leyes de derecho de autor, debe ser una oportunidad para atender asuntos actuales y locales, con visión hacia el futuro, y debe ayudar a minimizar el impacto negativo que este tipo de normas pueden llegar a tener para comunidades y sectores de la sociedad colombiana.\n",
    "\n",
    "Sin embargo, el texto presentado por el gobierno se preocupa esencialmente en darle solución a los problemas de los titulares de derecho de autor, dejando por fuera los intereses de la ciudadanía, profesores, investigadores, consumidores, usuarios, periodistas, emprendedores e instituciones dedicadas a la cultura y la educación, como bibliotecas o centros culturales, quienes incluso frente a la ley actual ya están en desventaja. Por lo tanto, este intento de reforma aumenta la brecha entre los intereses del público y los de los titulares.'''"
   ]
  },
  {
   "cell_type": "code",
   "execution_count": 5,
   "metadata": {},
   "outputs": [],
   "source": [
    "# fragmento de texto tomado del articulo que se encuentra https://karisma.org.co/una-decision-clave-para-el-futuro-del-acceso-al-conocimiento-en-colombia/\n",
    "texto2= '''Una decisión clave para el futuro del acceso al conocimiento en Colombia\n",
    "Incluso desde la óptica de la educación, los salones de clase y las instituciones académicas no son los únicos lugares en donde ocurre la creación y circulación del conocimiento. Se aprende en casa, se aprende a distancia, de manera autodidacta y en escenarios colectivos como conversatorios, talleres o conciertos. De hecho, gracias a la popularización de Internet, se hizo más evidente para cualquiera que el aprendizaje no es un acto individual, sino el fruto de un proceso de comunicación y colaboración en el que las ideas se copian, se transforman, se combinan y se discuten. Aprender es hoy una acción de escala mundial y en esa medida, Internet se ha convertido también en un escenario para el conocimiento y la cultura.  \n",
    "\n",
    "Sin duda, se trata de un oportunidad para las sociedades del siglo XXI pero algunos la señalan como una amenaza al sistema tradicional de circulación de contenidos (culturales, científicos, académicos) cimentado en las leyes de propiedad intelectual.\n",
    "El impacto de la propiedad intelectual sobre el acceso al conocimiento que menciona Prabhala  se ha materializado en casos como el de Diego Gómez, el biólogo colombiano que compartió una tesis en internet y que enfrenta un proceso penal que puede suponer de 4 a 8 años de cárcel y una multa millonaria, cuyo caso hemos acompañado en Fundación Karisma a través de la campaña #CompartirNoEsDelito. '''"
   ]
  },
  {
   "cell_type": "code",
   "execution_count": 6,
   "metadata": {},
   "outputs": [],
   "source": [
    "from nltk.tokenize import WordPunctTokenizer\n"
   ]
  },
  {
   "cell_type": "code",
   "execution_count": 7,
   "metadata": {
    "scrolled": true
   },
   "outputs": [],
   "source": [
    "# Se tokeniza el texto para crear el modelo probabilistico\n",
    "corpus1 = WordPunctTokenizer().tokenize(texto1) \n",
    "corpus2 = WordPunctTokenizer().tokenize(texto2)\n",
    "model1 = probabilityG(corpus1,1)\n",
    "model2 = probabilityG(corpus2,1)"
   ]
  },
  {
   "cell_type": "markdown",
   "metadata": {},
   "source": [
    "**1.3.** Comparar estadísticas de los dos \"corpus\". ¿Cuáles son las diferencias entre los unigramas más comunes de los dos conjuntos? "
   ]
  },
  {
   "cell_type": "code",
   "execution_count": 8,
   "metadata": {},
   "outputs": [
    {
     "name": "stdout",
     "output_type": "stream",
     "text": [
      "['Colombia', 'merece', 'una', 'reforma', 'integral', 'al', 'derecho', 'de', 'autor', 'El', 'texto', 'presentado', 'por', 'el', 'gobierno', 'nacional', 'de', 'Colombia', 'para', 'reformar', 'la', 'ley', '23', 'de', '1982', 'en', 'materia', 'de', 'derecho', 'de', 'autor', 'y', 'derechos', 'conexos', ',', 'nos', 'arrebata', 'de', 'las', 'manos', 'la', 'posibilidad', 'de', 'actualizar', ',', 'mejorar', 'y', 'equilibrar', 'nuestro', 'sistema', 'de', 'derecho', 'de', 'autor', 'a', 'la', 'luz', 'de', 'las', 'oportunidades', 'y', 'retos', 'de', 'la', 'era', 'digital', 'y', 'de', 'las', 'necesidades', 'sociales', 'que', 'vienen', 'amarradas', 'al', 'acceso', 'al', 'conocimiento', 'y', 'la', 'cultura', 'en', 'un', 'contexto', 'de', 'paz', '.', 'El', 'gobierno', 'colombiano', ',', 'en', 'cabeza', 'del', 'Ministerio', 'de', 'Comercio', ',', 'Industria', 'y', 'Turismo', '(', 'MinComercio', ')', 'y', 'de', 'la', 'Dirección', 'Nacional', 'de', 'Derecho', 'de', 'Autor', '(', 'DNDA', '),', 'no', 'debe', 'limitar', 'esta', 'reforma', 'a', 'implementar', ',', 'sin', 'reparos', ',', 'las', 'disposiciones', 'del', 'Tratado', 'de', 'Libre', 'Comercio', '(', 'TLC', ')', 'que', 'nuestro', 'país', 'firmó', 'con', 'EEUU', '.', 'Por', 'el', 'contrario', ',', 'la', 'obligación', 'de', 'reformar', 'nuestras', 'leyes', 'de', 'derecho', 'de', 'autor', ',', 'debe', 'ser', 'una', 'oportunidad', 'para', 'atender', 'asuntos', 'actuales', 'y', 'locales', ',', 'con', 'visión', 'hacia', 'el', 'futuro', ',', 'y', 'debe', 'ayudar', 'a', 'minimizar', 'el', 'impacto', 'negativo', 'que', 'este', 'tipo', 'de', 'normas', 'pueden', 'llegar', 'a', 'tener', 'para', 'comunidades', 'y', 'sectores', 'de', 'la', 'sociedad', 'colombiana', '.', 'Sin', 'embargo', ',', 'el', 'texto', 'presentado', 'por', 'el', 'gobierno', 'se', 'preocupa', 'esencialmente', 'en', 'darle', 'solución', 'a', 'los', 'problemas', 'de', 'los', 'titulares', 'de', 'derecho', 'de', 'autor', ',', 'dejando', 'por', 'fuera', 'los', 'intereses', 'de', 'la', 'ciudadanía', ',', 'profesores', ',', 'investigadores', ',', 'consumidores', ',', 'usuarios', ',', 'periodistas', ',', 'emprendedores', 'e', 'instituciones', 'dedicadas', 'a', 'la', 'cultura', 'y', 'la', 'educación', ',', 'como', 'bibliotecas', 'o', 'centros', 'culturales', ',', 'quienes', 'incluso', 'frente', 'a', 'la', 'ley', 'actual', 'ya', 'están', 'en', 'desventaja', '.', 'Por', 'lo', 'tanto', ',', 'este', 'intento', 'de', 'reforma', 'aumenta', 'la', 'brecha', 'entre', 'los', 'intereses', 'del', 'público', 'y', 'los', 'de', 'los', 'titulares', '.']\n"
     ]
    }
   ],
   "source": [
    "print(corpus1)"
   ]
  }
 ],
 "metadata": {
  "kernelspec": {
   "display_name": "Python 3",
   "language": "python",
   "name": "python3"
  },
  "language_info": {
   "codemirror_mode": {
    "name": "ipython",
    "version": 3
   },
   "file_extension": ".py",
   "mimetype": "text/x-python",
   "name": "python",
   "nbconvert_exporter": "python",
   "pygments_lexer": "ipython3",
   "version": "3.6.7"
  }
 },
 "nbformat": 4,
 "nbformat_minor": 2
}
