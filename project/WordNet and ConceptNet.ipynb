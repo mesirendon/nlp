{
 "cells": [
  {
   "cell_type": "markdown",
   "metadata": {},
   "source": [
    "# Building an enriched corpus right away from WordNet and ConceptNet\n",
    "Building an enriched corpus is a high time consuming task, so for the sake of this workshop a Docker container has been prepared to run the examples.\n",
    "\n",
    "## Requirements\n",
    "1. Ubuntu 16.04 LTS or any higher LTS version\n",
    "1. Docker\n",
    "1. Docker Compose\n",
    "1. High speed internet connection is desirable\n",
    "\n",
    "## Docker compose\n",
    "Copy the following code within a file named `docker-compose.yaml`:\n",
    "\n",
    "```\n",
    "version: '3'\n",
    "services:\n",
    "  richwordnet:\n",
    "    image: amrendonsa/enrichedwordnet:0.1.0\n",
    "    network_mode: host\n",
    "```\n",
    "\n",
    "Then run the command `docker-compose up` and wait till the system log shows up the url [http://localhost:7474](http://localhost:7474), then open it in a browser.\n",
    "\n",
    "## Neo4j\n",
    "This workshop runs over the Neo4j Graph Database. The first step requires you to login using:\n",
    "```\n",
    "user: neo4j\n",
    "password: neo4j\n",
    "```\n",
    "The system will ask you to change the password. For the sake of this workshop use `123123123` as password.\n",
    "\n",
    "### Indexing\n",
    "The workshop requires you to create three indices:\n",
    "```\n",
    "CREATE INDEX ON :Synset(id)\n",
    "CREATE INDEX ON :Lemma(name, pos)\n",
    "CREATE INDEX ON :Concept(conceptUri)\n",
    "```"
   ]
  },
  {
   "cell_type": "markdown",
   "metadata": {},
   "source": [
    "## Python\n",
    "The following code will try to tie the synsets **cat** and **medicine**. Just run it."
   ]
  },
  {
   "cell_type": "code",
   "execution_count": 1,
   "metadata": {},
   "outputs": [
    {
     "name": "stdout",
     "output_type": "stream",
     "text": [
      "[{'p': <Path start=<Node id=1567676 labels={'Synset'} properties={'pos': 'n', 'definition': 'feline mammal usually having thick soft fur and no ability to roar: domestic cats; wildcats', 'id': 'cat.n.01'}> end=<Node id=1492391 labels={'Synset'} properties={'pos': 'n', 'definition': 'the branches of medical science that deal with nonsurgical techniques', 'id': 'medicine.n.01'}> size=4>}]\n"
     ]
    }
   ],
   "source": [
    "from neo4j import GraphDatabase, basic_auth\n",
    "\n",
    "driver = GraphDatabase.driver(\"bolt://localhost:7687\", auth=basic_auth(\"neo4j\", \"123123123\"))\n",
    "session = driver.session()\n",
    "\n",
    "foaf_query = '''\n",
    "MATCH (w:Synset {id: \"cat.n.01\"}), (b:Synset {id: \"medicine.n.01\"}),p = shortestPath((w)-[*]-(b))\n",
    "WHERE ALL ( n IN nodes(p) WHERE \"Concept\" IN labels(n) or \"Lemma\" IN labels(n) or \"Synset\" in labels(n))\n",
    "RETURN p\n",
    "'''\n",
    "\n",
    "results = session.run(foaf_query)\n",
    "print(results.data())\n",
    "\n",
    "for record in results:\n",
    "    print(record.data())\n",
    "\n",
    "\n",
    "session.close()"
   ]
  },
  {
   "cell_type": "markdown",
   "metadata": {},
   "source": [
    "## Neo4j\n",
    "The idea is to run the same query on Neo4j. Enter the following query on the Neo4j web interface:\n",
    "\n",
    "```\n",
    "MATCH (w:Synset {id: \"cat.n.01\"}), (b:Synset {id: \"medicine.n.01\"}),p = shortestPath((w)-[*]-(b))\n",
    "WHERE ALL ( n IN nodes(p) WHERE \"Concept\" IN labels(n) or \"Lemma\" IN labels(n) or \"Synset\" in labels(n))\n",
    "RETURN p\n",
    "```\n",
    "\n",
    "You should get something like this\n",
    "\n",
    "![Neo4j](01.png)"
   ]
  }
 ],
 "metadata": {
  "kernelspec": {
   "display_name": "Python 3",
   "language": "python",
   "name": "python3"
  },
  "language_info": {
   "codemirror_mode": {
    "name": "ipython",
    "version": 3
   },
   "file_extension": ".py",
   "mimetype": "text/x-python",
   "name": "python",
   "nbconvert_exporter": "python",
   "pygments_lexer": "ipython3",
   "version": "3.6.8"
  }
 },
 "nbformat": 4,
 "nbformat_minor": 2
}
